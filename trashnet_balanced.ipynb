{
  "cells": [
    {
      "cell_type": "markdown",
      "metadata": {
        "id": "Y7t-8h7u9x6V"
      },
      "source": [
        "# Автоматическая классификация вида бытового мусора по изображению"
      ]
    },
    {
      "cell_type": "markdown",
      "metadata": {
        "id": "NUdMo638-a0E"
      },
      "source": [
        "## Импорт библиотек"
      ]
    },
    {
      "cell_type": "code",
      "execution_count": null,
      "metadata": {
        "dotnet_interactive": {
          "language": "csharp"
        },
        "id": "L-Vh4s1lkzSU",
        "polyglot_notebook": {
          "kernelName": "csharp"
        }
      },
      "outputs": [],
      "source": [
        "import pandas as pd\n",
        "import numpy as np\n",
        "import matplotlib.pyplot as plt\n",
        "import seaborn as sns\n",
        "from PIL import Image, ImageStat, ImageEnhance\n",
        "import io\n",
        "from sklearn.model_selection import train_test_split\n",
        "from tensorflow.keras.preprocessing.image import img_to_array, load_img\n",
        "from tensorflow.keras.utils import to_categorical\n",
        "from tensorflow.keras.applications import MobileNetV2\n",
        "from tensorflow.keras.layers import Dense, GlobalAveragePooling2D\n",
        "from tensorflow.keras.models import Model\n",
        "from tensorflow.keras.models import load_model\n",
        "from tensorflow.keras.callbacks import EarlyStopping\n",
        "import random\n",
        "from sklearn.preprocessing import label_binarize\n",
        "from sklearn.metrics import roc_curve, auc"
      ]
    },
    {
      "cell_type": "markdown",
      "metadata": {
        "id": "uwySU8SW-eP8"
      },
      "source": [
        "## Загрузка данных"
      ]
    },
    {
      "cell_type": "markdown",
      "metadata": {
        "id": "TRyHLV7x34zA"
      },
      "source": [
        "### Функция для загрузки датасета"
      ]
    },
    {
      "cell_type": "code",
      "execution_count": null,
      "metadata": {
        "dotnet_interactive": {
          "language": "csharp"
        },
        "id": "f8tcBoPxkzSV",
        "polyglot_notebook": {
          "kernelName": "csharp"
        }
      },
      "outputs": [],
      "source": [
        "# Функция для загрузки датасета в формате parquet\n",
        "def get_df_from_hf_parquet(base_url: str, parquet_count: int) -> pd.DataFrame:\n",
        "  urls = [base_url + f\"{i:04}.parquet\" for i in range(0, parquet_count)]\n",
        "  return pd.concat([pd.read_parquet(url) for url in urls])"
      ]
    },
    {
      "cell_type": "markdown",
      "metadata": {
        "id": "Z0AARu--_Gne"
      },
      "source": [
        "### Загрузка улучшенного trashnet"
      ]
    },
    {
      "cell_type": "code",
      "execution_count": null,
      "metadata": {
        "dotnet_interactive": {
          "language": "csharp"
        },
        "id": "d9BFEBttkzSV",
        "polyglot_notebook": {
          "kernelName": "csharp"
        }
      },
      "outputs": [],
      "source": [
        "enhanced_url = \"https://huggingface.co/datasets/edwinpalegre/trashnet_enhanced/resolve/refs%2Fconvert%2Fparquet/default/train/\"\n",
        "\n",
        "df_enhanced = get_df_from_hf_parquet(enhanced_url, 100)"
      ]
    },
    {
      "cell_type": "markdown",
      "metadata": {
        "id": "ry43e-kA3-jT"
      },
      "source": [
        "## Предварительная обработка данных"
      ]
    },
    {
      "cell_type": "markdown",
      "metadata": {
        "id": "HhaKrcJv2KPs"
      },
      "source": [
        "Выводим количество классов у датасета"
      ]
    },
    {
      "cell_type": "code",
      "execution_count": null,
      "metadata": {
        "dotnet_interactive": {
          "language": "csharp"
        },
        "id": "tRNkMwsOkzSV",
        "outputId": "24d4dcb7-0764-4ca4-873c-348cacec4ba0",
        "polyglot_notebook": {
          "kernelName": "csharp"
        }
      },
      "outputs": [
        {
          "data": {
            "text/plain": [
              "label\n",
              "2    4902\n",
              "0    3692\n",
              "4    3485\n",
              "1    2782\n",
              "3    2484\n",
              "5    2410\n",
              "6     137\n",
              "Name: count, dtype: int64"
            ]
          },
          "execution_count": 4,
          "metadata": {},
          "output_type": "execute_result"
        }
      ],
      "source": [
        "df_enhanced['label'].value_counts()"
      ]
    },
    {
      "cell_type": "code",
      "execution_count": null,
      "metadata": {
        "dotnet_interactive": {
          "language": "csharp"
        },
        "id": "PKrPzgExkzSW",
        "polyglot_notebook": {
          "kernelName": "csharp"
        }
      },
      "outputs": [],
      "source": [
        "df_enhanced = df_enhanced[df_enhanced['label'] != 6]"
      ]
    },
    {
      "cell_type": "markdown",
      "metadata": {
        "id": "gz8C97LX4OZs"
      },
      "source": [
        "Можно заметить, что у 6 класса количество данных сильно меньше, чем у остальных. Делаем вывод, что модель не сумеет достаточно обучиться и метрики из-за этого будут хуже. Также этот класс довольно обобщенный. Поэтому убираем 6 класс, не будем его учитывать при обучении"
      ]
    },
    {
      "cell_type": "code",
      "execution_count": null,
      "metadata": {
        "dotnet_interactive": {
          "language": "csharp"
        },
        "id": "GYWNxhipkzSW",
        "outputId": "777e9e00-9d25-499e-9465-92cd30817149",
        "polyglot_notebook": {
          "kernelName": "csharp"
        }
      },
      "outputs": [
        {
          "data": {
            "text/plain": [
              "label\n",
              "2    4902\n",
              "0    3692\n",
              "4    3485\n",
              "1    2782\n",
              "3    2484\n",
              "5    2410\n",
              "Name: count, dtype: int64"
            ]
          },
          "execution_count": 6,
          "metadata": {},
          "output_type": "execute_result"
        }
      ],
      "source": [
        "df_enhanced['label'].value_counts()"
      ]
    },
    {
      "cell_type": "markdown",
      "metadata": {
        "id": "t1AAWw2b4hy-"
      },
      "source": [
        "Убрали 6 класс, теперь в датасете будут только классы с 0 по 5"
      ]
    },
    {
      "cell_type": "markdown",
      "metadata": {
        "id": "r3N55E2y4vgO"
      },
      "source": [
        "### Функция для преобразования байтов изображения в массив numpy"
      ]
    },
    {
      "cell_type": "markdown",
      "metadata": {
        "id": "r4i9Lahz2tN6"
      },
      "source": [
        "Функция преобразует байты изображения в объект PIL.Image с помощью io.BytesIO для чтения байтового представления изображения, а также приводит изображения к размеру (224, 224). Данная функция возвращает нормализованный массив numpy размером (224, 224, 3), готовый для подачи в нейросеть."
      ]
    },
    {
      "cell_type": "code",
      "execution_count": null,
      "metadata": {
        "dotnet_interactive": {
          "language": "csharp"
        },
        "id": "ta02ihu3kzSW",
        "polyglot_notebook": {
          "kernelName": "csharp"
        }
      },
      "outputs": [],
      "source": [
        "# Функция для преобразования байтов изображения в массив numpy\n",
        "def bytes_to_array(image_bytes):\n",
        "    img = Image.open(io.BytesIO(image_bytes['bytes']))\n",
        "    img = img.resize((224, 224))  # Изменение размера до входного размера MobileNetV2\n",
        "    img_array = img_to_array(img) / 255.0  # Нормализация значений пикселей\n",
        "    return img_array"
      ]
    },
    {
      "cell_type": "markdown",
      "metadata": {
        "id": "uGNzFMTh58zo"
      },
      "source": [
        "### Аугментация данных для балансировки данных"
      ]
    },
    {
      "cell_type": "markdown",
      "metadata": {
        "id": "_cybbCbE3Fx9"
      },
      "source": [
        "Аугментация данных — это процесс искусственного увеличения объёма обучающего набора данных путём создания его модифицированных копий."
      ]
    },
    {
      "cell_type": "markdown",
      "metadata": {
        "id": "GII-Eu5o3K1r"
      },
      "source": [
        "Если количество примеров меньше max_count, то будем создавать дополнительные аугментированные изображения, чтобы выровнять количество примеров. Затем проводим аугментацию изображений и результат сохраняем в байтовом формате. В результате получаем массив объединенных оригинальных и аугментированных данных (df_balanced), где все классы содержат одинаковое количество примеров."
      ]
    },
    {
      "cell_type": "code",
      "execution_count": null,
      "metadata": {
        "dotnet_interactive": {
          "language": "csharp"
        },
        "id": "hFjTYkYfkzSW",
        "outputId": "3a93fa81-9eba-40c6-d529-dee6f84e8e54",
        "polyglot_notebook": {
          "kernelName": "csharp"
        }
      },
      "outputs": [
        {
          "name": "stdout",
          "output_type": "stream",
          "text": [
            "label\n",
            "0    4902\n",
            "1    4902\n",
            "2    4902\n",
            "3    4902\n",
            "4    4902\n",
            "5    4902\n",
            "Name: count, dtype: int64\n"
          ]
        }
      ],
      "source": [
        "# Вычисление максимального количество классов\n",
        "max_count = df_enhanced['label'].value_counts().max()\n",
        "\n",
        "balanced_dfs = []\n",
        "\n",
        "for label in df_enhanced['label'].unique():\n",
        "    # Извлечение подмножества данных для текущего класса\n",
        "    class_df = df_enhanced[df_enhanced['label'] == label].copy()\n",
        "    current_count = len(class_df)\n",
        "\n",
        "    if current_count < max_count:\n",
        "        num_needed = max_count - current_count\n",
        "        augmented_rows = []\n",
        "\n",
        "        for _ in range(num_needed):\n",
        "            # Случайным образом выбрать образец из текущего класса\n",
        "            sample = class_df.sample(n=1).iloc[0]\n",
        "            img_bytes = sample['image']['bytes']\n",
        "\n",
        "            # Применение аугментации\n",
        "            img = Image.open(io.BytesIO(img_bytes))\n",
        "\n",
        "            # Случайное вращение на угол от -30 до 30 градусов\n",
        "            angle = random.uniform(-30, 30)\n",
        "            img = img.rotate(angle, resample=Image.BILINEAR, expand=False)\n",
        "\n",
        "            # Случайное горизонтальное переворачивание с вероятностью 50%\n",
        "            if random.random() < 0.5:\n",
        "                img = img.transpose(Image.FLIP_LEFT_RIGHT)\n",
        "\n",
        "            # Случайная настройка яркости\n",
        "            enhancer = ImageEnhance.Brightness(img)\n",
        "            img = enhancer.enhance(random.uniform(0.7, 1.3))\n",
        "\n",
        "            # Случайная настройка контрастности\n",
        "            enhancer = ImageEnhance.Contrast(img)\n",
        "            img = enhancer.enhance(random.uniform(0.7, 1.3))\n",
        "\n",
        "            # Сохранить аугментированное изображение в байты\n",
        "            img_byte_arr = io.BytesIO()\n",
        "            img.save(img_byte_arr, format='JPEG')  # Отрегулировать формат при необходимости\n",
        "            img_bytes_augmented = img_byte_arr.getvalue()\n",
        "\n",
        "            # Создать новый образец с аугментированным изображением\n",
        "            new_sample = sample.copy()\n",
        "            new_sample['image'] = {'bytes': img_bytes_augmented}\n",
        "            augmented_rows.append(new_sample)\n",
        "\n",
        "        # Создание DataFrame для аугментированных образцов\n",
        "        augmented_df = pd.DataFrame(augmented_rows)\n",
        "        # Объединение оригинальных и аугментированных образцов для этого класса\n",
        "        balanced_class_df = pd.concat([class_df, augmented_df], ignore_index=True)\n",
        "        balanced_dfs.append(balanced_class_df)\n",
        "    else:\n",
        "        # Аугментация не нужна; добавить данные оригинального класса\n",
        "        balanced_dfs.append(class_df)\n",
        "\n",
        "# Объединение всех классов в сбалансированный DataFrame\n",
        "df_balanced = pd.concat(balanced_dfs, ignore_index=True)\n",
        "\n",
        "# Проверка количества сбалансированных классов\n",
        "print(df_balanced['label'].value_counts())"
      ]
    },
    {
      "cell_type": "code",
      "execution_count": null,
      "metadata": {
        "dotnet_interactive": {
          "language": "csharp"
        },
        "id": "nrhpWTBqkzSW",
        "outputId": "ca00c1fc-9ae3-486e-cf8a-c22a0f3597dd",
        "polyglot_notebook": {
          "kernelName": "csharp"
        }
      },
      "outputs": [
        {
          "data": {
            "text/plain": [
              "label\n",
              "0    4902\n",
              "1    4902\n",
              "2    4902\n",
              "3    4902\n",
              "4    4902\n",
              "5    4902\n",
              "Name: count, dtype: int64"
            ]
          },
          "execution_count": 9,
          "metadata": {},
          "output_type": "execute_result"
        }
      ],
      "source": [
        "df_balanced['label'].value_counts()"
      ]
    },
    {
      "cell_type": "markdown",
      "metadata": {
        "id": "lK3Ink8L6Yv9"
      },
      "source": [
        "**Вывод:** благодаря аугментации данных мы увеличили объем обучающего набора данных путем создания модифицированных копий, таким образом улучшили обобщающую способность модели и снизили вероятность переобучения. В результате был получен сбалансированный датасет."
      ]
    },
    {
      "cell_type": "markdown",
      "metadata": {
        "id": "UvAPpRsW6d_J"
      },
      "source": [
        "## Создание генератора данных"
      ]
    },
    {
      "cell_type": "markdown",
      "metadata": {
        "id": "wWgIyCOB6gsi"
      },
      "source": [
        "### Пользовательский генератор данных"
      ]
    },
    {
      "cell_type": "markdown",
      "metadata": {
        "id": "oZuOCA9n4LQh"
      },
      "source": [
        "Данная функция принимает DataFrame (df) с изображениями и метками, а также размер батча (batch_size). Затем в бесконечном цикле (while True) разбивает данные на батчи фиксированного размера. После для каждого батча извлекает изображения и применяет функцию bytes_to_array (преобразует байты в нормализованные numpy-массивы)"
      ]
    },
    {
      "cell_type": "code",
      "execution_count": null,
      "metadata": {
        "dotnet_interactive": {
          "language": "csharp"
        },
        "id": "m7TcNN4mkzSW",
        "polyglot_notebook": {
          "kernelName": "csharp"
        }
      },
      "outputs": [],
      "source": [
        "# Пользовательский генератор данных\n",
        "def data_generator(df, batch_size=32):\n",
        "    num_samples = len(df)\n",
        "    while True:  # Бесконечный цикл для обучения\n",
        "        for offset in range(0, num_samples, batch_size):\n",
        "            batch_samples = df.iloc[offset:offset + batch_size]\n",
        "            X = np.array([bytes_to_array(img) for img in batch_samples['image']])\n",
        "            y = batch_samples['label'].values\n",
        "            y = to_categorical(y, num_classes=6)  # One-hot кодирование меток\n",
        "            yield X, y"
      ]
    },
    {
      "cell_type": "markdown",
      "metadata": {
        "id": "HOz5in-E4XLU"
      },
      "source": [
        "Таким образом мы подготовили данные перед подачей в нейросеть при обучении:\n",
        "\n",
        "• Нейросети обучаются на мини-батчах, а не на всем датасете сразу - это усокряет обучение и уменьшает потребление памяти.\n",
        "\n",
        "• В глубоких нейросетях часто используют генераторы данных, которые бесконечно создают батчи и передают их в модель. Это позволяет не загружать весь датасет в память, а обрабатывать его по частям во время обучения."
      ]
    },
    {
      "cell_type": "markdown",
      "metadata": {
        "id": "OR0y1DK98FWT"
      },
      "source": [
        "### Разделение на обучающую и валидационную выборки"
      ]
    },
    {
      "cell_type": "markdown",
      "metadata": {
        "id": "Cx0t32F94hWH"
      },
      "source": [
        "Разделяем данные с помощью train_test_split для сбалансированного датасета (df_balanced) на:\n",
        "\n",
        "1. Обучающую выборку (train_df, 80% данных).\n",
        "2. Валидационную выборку (val_df, 20% данных).\n",
        "\n",
        "Инициализируем генераторы для обучения (train_generator) и валидации (val_generator), используя функцию data_generator."
      ]
    },
    {
      "cell_type": "code",
      "execution_count": null,
      "metadata": {
        "dotnet_interactive": {
          "language": "csharp"
        },
        "id": "8ZrxhQdekzSW",
        "polyglot_notebook": {
          "kernelName": "csharp"
        }
      },
      "outputs": [],
      "source": [
        "# Разделение данных на обучающую и валидационную выборки\n",
        "train_df, val_df = train_test_split(df_balanced, test_size=0.2, random_state=42)\n",
        "\n",
        "# Определение размера batch\n",
        "batch_size = 32\n",
        "\n",
        "# Создание генераторов для обучения и валидации\n",
        "train_generator = data_generator(train_df, batch_size=batch_size)\n",
        "val_generator = data_generator(val_df, batch_size=batch_size)"
      ]
    },
    {
      "cell_type": "markdown",
      "metadata": {
        "id": "nkvtF6uE5KQ2"
      },
      "source": [
        "Определяем количество шагов (итераций) за одну эпоху при обучении и валидации модели в нейросетях."
      ]
    },
    {
      "cell_type": "code",
      "execution_count": null,
      "metadata": {
        "dotnet_interactive": {
          "language": "csharp"
        },
        "id": "9C-tEr6gkzSX",
        "polyglot_notebook": {
          "kernelName": "csharp"
        }
      },
      "outputs": [],
      "source": [
        "steps_per_epoch = len(train_df) // batch_size\n",
        "validation_steps = len(val_df) // batch_size"
      ]
    },
    {
      "cell_type": "markdown",
      "metadata": {
        "id": "AO8LOip18Xb0"
      },
      "source": [
        "## Работа с моделью"
      ]
    },
    {
      "cell_type": "markdown",
      "metadata": {
        "id": "QuLYBttr8YgE"
      },
      "source": [
        "### Построение модели"
      ]
    },
    {
      "cell_type": "markdown",
      "metadata": {
        "id": "w1e47jIN5YWF"
      },
      "source": [
        "Создание модели для классификации изображений на основе MobileNetV2, значительно сэкономит время и вычислительные ресурсы."
      ]
    },
    {
      "cell_type": "code",
      "execution_count": null,
      "metadata": {
        "dotnet_interactive": {
          "language": "csharp"
        },
        "id": "jzMEptQckzSX",
        "polyglot_notebook": {
          "kernelName": "csharp"
        }
      },
      "outputs": [],
      "source": [
        "# Загрузка мобильной сетки V2 предварительно отягощенными грузами, исключая верхние слои\n",
        "base_model = MobileNetV2(weights='imagenet', include_top=False, input_shape=(224, 224, 3))\n",
        "\n",
        "# Заморозка слоев базовой модели\n",
        "base_model.trainable = False\n",
        "\n",
        "# Добавление пользовательских слоев поверх Mobile Net V2\n",
        "x = base_model.output\n",
        "x = GlobalAveragePooling2D()(x)\n",
        "x = Dense(1024, activation='relu')(x)\n",
        "predictions = Dense(6, activation='softmax')(x)\n",
        "\n",
        "# Объединяем базовую модель и пользовательские слои\n",
        "model = Model(inputs=base_model.input, outputs=predictions)\n",
        "\n",
        "# Сборка модели\n",
        "model.compile(optimizer='adam', loss='categorical_crossentropy', metrics=['accuracy'])"
      ]
    },
    {
      "cell_type": "markdown",
      "metadata": {
        "id": "XsDN3C5T8jHm"
      },
      "source": [
        "### Обучение модели"
      ]
    },
    {
      "cell_type": "markdown",
      "metadata": {
        "id": "a9PUh-1D6FCz"
      },
      "source": [
        "Запуск обучения модели, с помощью генераторов train_generator и val_generator для подачи данных, обучение модели на 10 эпохах (или меньше, если сработает EarlyStopping) и сохранение истории обучения в переменную history."
      ]
    },
    {
      "cell_type": "code",
      "execution_count": null,
      "metadata": {
        "dotnet_interactive": {
          "language": "csharp"
        },
        "id": "cwgmztvRkzSX",
        "polyglot_notebook": {
          "kernelName": "csharp"
        }
      },
      "outputs": [],
      "source": [
        "early_stopping = EarlyStopping(\n",
        "    monitor='val_loss',  # Мониторим потери на валидационных данных\n",
        "    patience=3,          # Ждем 3 эпохи без улучшений\n",
        "    restore_best_weights=True  # Восстанавливаем веса лучшей модели\n",
        ")"
      ]
    },
    {
      "cell_type": "code",
      "execution_count": null,
      "metadata": {
        "dotnet_interactive": {
          "language": "csharp"
        },
        "id": "k2oGj_pWkzSX",
        "outputId": "62fb1a9e-0a0a-4479-ba88-6c14187e4a4f",
        "polyglot_notebook": {
          "kernelName": "csharp"
        }
      },
      "outputs": [
        {
          "name": "stdout",
          "output_type": "stream",
          "text": [
            "Epoch 1/10\n",
            "\u001b[1m735/735\u001b[0m \u001b[32m━━━━━━━━━━━━━━━━━━━━\u001b[0m\u001b[37m\u001b[0m \u001b[1m1714s\u001b[0m 2s/step - accuracy: 0.8066 - loss: 0.5471 - val_accuracy: 0.9032 - val_loss: 0.2821\n",
            "Epoch 2/10\n",
            "\u001b[1m735/735\u001b[0m \u001b[32m━━━━━━━━━━━━━━━━━━━━\u001b[0m\u001b[37m\u001b[0m \u001b[1m1284s\u001b[0m 2s/step - accuracy: 0.9221 - loss: 0.2185 - val_accuracy: 0.9107 - val_loss: 0.2687\n",
            "Epoch 3/10\n",
            "\u001b[1m735/735\u001b[0m \u001b[32m━━━━━━━━━━━━━━━━━━━━\u001b[0m\u001b[37m\u001b[0m \u001b[1m2617s\u001b[0m 4s/step - accuracy: 0.9587 - loss: 0.1188 - val_accuracy: 0.9151 - val_loss: 0.2785\n",
            "Epoch 4/10\n",
            "\u001b[1m735/735\u001b[0m \u001b[32m━━━━━━━━━━━━━━━━━━━━\u001b[0m\u001b[37m\u001b[0m \u001b[1m1286s\u001b[0m 2s/step - accuracy: 0.9697 - loss: 0.0856 - val_accuracy: 0.9019 - val_loss: 0.3490\n",
            "Epoch 5/10\n",
            "\u001b[1m735/735\u001b[0m \u001b[32m━━━━━━━━━━━━━━━━━━━━\u001b[0m\u001b[37m\u001b[0m \u001b[1m1424s\u001b[0m 2s/step - accuracy: 0.9776 - loss: 0.0654 - val_accuracy: 0.9332 - val_loss: 0.2537\n",
            "Epoch 6/10\n",
            "\u001b[1m735/735\u001b[0m \u001b[32m━━━━━━━━━━━━━━━━━━━━\u001b[0m\u001b[37m\u001b[0m \u001b[1m1471s\u001b[0m 2s/step - accuracy: 0.9845 - loss: 0.0480 - val_accuracy: 0.9275 - val_loss: 0.3038\n",
            "Epoch 7/10\n",
            "\u001b[1m735/735\u001b[0m \u001b[32m━━━━━━━━━━━━━━━━━━━━\u001b[0m\u001b[37m\u001b[0m \u001b[1m1454s\u001b[0m 2s/step - accuracy: 0.9856 - loss: 0.0395 - val_accuracy: 0.9277 - val_loss: 0.3130\n",
            "Epoch 8/10\n",
            "\u001b[1m735/735\u001b[0m \u001b[32m━━━━━━━━━━━━━━━━━━━━\u001b[0m\u001b[37m\u001b[0m \u001b[1m1379s\u001b[0m 2s/step - accuracy: 0.9870 - loss: 0.0418 - val_accuracy: 0.9415 - val_loss: 0.2500\n",
            "Epoch 9/10\n",
            "\u001b[1m735/735\u001b[0m \u001b[32m━━━━━━━━━━━━━━━━━━━━\u001b[0m\u001b[37m\u001b[0m \u001b[1m1675s\u001b[0m 2s/step - accuracy: 0.9877 - loss: 0.0369 - val_accuracy: 0.9443 - val_loss: 0.2421\n",
            "Epoch 10/10\n",
            "\u001b[1m735/735\u001b[0m \u001b[32m━━━━━━━━━━━━━━━━━━━━\u001b[0m\u001b[37m\u001b[0m \u001b[1m1374s\u001b[0m 2s/step - accuracy: 0.9873 - loss: 0.0398 - val_accuracy: 0.9477 - val_loss: 0.2325\n"
          ]
        }
      ],
      "source": [
        "history = model.fit(\n",
        "    train_generator,\n",
        "    steps_per_epoch=steps_per_epoch,\n",
        "    epochs=10,\n",
        "    validation_data=val_generator,\n",
        "    validation_steps=validation_steps\n",
        ")"
      ]
    },
    {
      "cell_type": "markdown",
      "metadata": {
        "id": "72r4jgh369rZ"
      },
      "source": [
        "**Вывод:**\n",
        "1. Точность на тренировочных данных (accuracy) значительно увеличилась: с 80.66% (эпоха 1) до 98.73% (эпоха 10).\n",
        "\n",
        "2. Потери (loss) на обучающем наборе уменьшились: с 0.5471 до 0.0398, что указывает на хорошее обучение модели.\n"
      ]
    },
    {
      "cell_type": "markdown",
      "metadata": {
        "id": "oiQTKAhyy8xN"
      },
      "source": [
        "С использованием балансировки данных:\n",
        "1. Увеличилось число шагов на эпоху:\n",
        "\n",
        "После балансировки steps_per_epoch увеличилось с 493 до 735, что означает, что модель теперь обрабатывает больше данных за одну эпоху.\n",
        "\n",
        "Это связано с тем, что исходные данные были несбалансированными, и некоторые классы были представлены слабо, из-за чего модель могла видеть меньше примеров за эпоху.\n",
        "\n",
        "2. Причина изменения:\n",
        "\n",
        "После балансировки все классы имеют одинаковое количество примеров, поэтому загрузчик данных может использовать полный датасет без пропусков, увеличивая общее число шагов.\n",
        "\n",
        "3. Влияние на обучение модели:\n",
        "\n",
        "* Теперь модель видит больше примеров за эпоху, что может улучшить обучение, так как данные лучше распределены.\n",
        "\n",
        "* Увеличение steps_per_epoch замедлило обучение, так как на каждую эпоху тратится больше времени."
      ]
    },
    {
      "cell_type": "markdown",
      "metadata": {
        "id": "WfTlQCq11m1T"
      },
      "source": [
        "### Оценка модели"
      ]
    },
    {
      "cell_type": "code",
      "execution_count": null,
      "metadata": {
        "dotnet_interactive": {
          "language": "csharp"
        },
        "id": "WSex-gE8kzSX",
        "outputId": "03413db6-b880-4253-c68f-80ad68caef7a",
        "polyglot_notebook": {
          "kernelName": "csharp"
        }
      },
      "outputs": [
        {
          "name": "stdout",
          "output_type": "stream",
          "text": [
            "\u001b[1m183/183\u001b[0m \u001b[32m━━━━━━━━━━━━━━━━━━━━\u001b[0m\u001b[37m\u001b[0m \u001b[1m256s\u001b[0m 1s/step - accuracy: 0.9444 - loss: 0.2420\n",
            "Validation Loss: 0.23192273080348969\n",
            "Validation Accuracy: 0.9473594427108765\n"
          ]
        }
      ],
      "source": [
        "val_loss, val_accuracy = model.evaluate(val_generator, steps=validation_steps)\n",
        "print(f\"Validation Loss: {val_loss}\")\n",
        "print(f\"Validation Accuracy: {val_accuracy}\")"
      ]
    },
    {
      "cell_type": "markdown",
      "metadata": {
        "id": "ZPmUsoDP9BMF"
      },
      "source": [
        "**Вывод:**\n",
        "1. Точность на обучающем наборе (accuracy): 94.44%. Точность на валидации (Validation Accuracy): 94.74%\n",
        "\n",
        "2. Обучающие потери (loss): 0.2420. Валидационные потери (Validation Loss): 0.2319. val_loss чуть меньше, чем loss, что говорит о том, что модель не переобучилась.\n",
        "\n",
        "3. Модель показывает хорошие результаты и не переобучилась. Разница между loss и val_loss небольшая, что говорит о хорошей устойчивости.\n",
        "\n",
        "Таким образом с использованием аугментации данных точность модели возросла."
      ]
    },
    {
      "cell_type": "markdown",
      "metadata": {
        "id": "KuZDUOeB9ya5"
      },
      "source": [
        "Указываем названия классов: биоразлагаемые отходы, картон, стекло, металл, бумага, пластик"
      ]
    },
    {
      "cell_type": "code",
      "execution_count": null,
      "metadata": {
        "dotnet_interactive": {
          "language": "csharp"
        },
        "id": "Ii40nHzDkzSX",
        "polyglot_notebook": {
          "kernelName": "csharp"
        }
      },
      "outputs": [],
      "source": [
        "label_mapping_enhanced = {\n",
        "    0: \"BIODEGRADABLE\",\n",
        "    1: \"CARDBOARD\",\n",
        "    2: \"GLASS\",\n",
        "    3: \"METAL\",\n",
        "    4: \"PAPER\",\n",
        "    5: \"PLASTIC\",\n",
        "}"
      ]
    },
    {
      "cell_type": "markdown",
      "metadata": {
        "id": "3WzbUkiOHerJ"
      },
      "source": [
        "Использование обученной модели для предсказания классов на валидационных данных. Выполнение построения таких метрик как: матрица ошибок и отчет о классификации."
      ]
    },
    {
      "cell_type": "code",
      "execution_count": null,
      "metadata": {
        "id": "RiaHKeOtkzSX",
        "outputId": "c1628271-d456-4f01-b5b4-ec5615b948e6"
      },
      "outputs": [
        {
          "name": "stdout",
          "output_type": "stream",
          "text": [
            "\u001b[1m183/183\u001b[0m \u001b[32m━━━━━━━━━━━━━━━━━━━━\u001b[0m\u001b[37m\u001b[0m \u001b[1m246s\u001b[0m 1s/step\n",
            "Размер true_labels: 5851\n",
            "Размер predicted_classes: 5851\n",
            "Confusion Matrix:\n",
            "[[915   1  12   1   2   1]\n",
            " [  4 908   6   8  47   7]\n",
            " [  4   2 934  21   3  28]\n",
            " [  0   1  11 976  11  21]\n",
            " [  5  20   2  10 913  19]\n",
            " [  2   2  28  10  19 897]]\n",
            "Classification Report:\n",
            "              precision    recall  f1-score   support\n",
            "\n",
            "           0       0.98      0.98      0.98       932\n",
            "           1       0.97      0.93      0.95       980\n",
            "           2       0.94      0.94      0.94       992\n",
            "           3       0.95      0.96      0.95      1020\n",
            "           4       0.92      0.94      0.93       969\n",
            "           5       0.92      0.94      0.93       958\n",
            "\n",
            "    accuracy                           0.95      5851\n",
            "   macro avg       0.95      0.95      0.95      5851\n",
            "weighted avg       0.95      0.95      0.95      5851\n",
            "\n"
          ]
        }
      ],
      "source": [
        "# Генерация предсказаний\n",
        "predictions = model.predict(val_generator, steps=validation_steps)\n",
        "predicted_classes = np.argmax(predictions, axis=1)\n",
        "\n",
        "# --- Исправление размеров true_labels ---\n",
        "true_labels = []\n",
        "for _ in range(validation_steps):\n",
        "    _, y_batch = next(val_generator)\n",
        "    true_labels.extend(np.argmax(y_batch, axis=1))\n",
        "\n",
        "true_labels = np.array(true_labels)[:len(predicted_classes)]\n",
        "\n",
        "print(f\"Размер true_labels: {len(true_labels)}\")\n",
        "print(f\"Размер predicted_classes: {len(predicted_classes)}\")\n",
        "\n",
        "# --- Исправление KerasTensor ---\n",
        "import tensorflow as tf\n",
        "if isinstance(predictions, tf.Tensor):\n",
        "    predictions = predictions.numpy()\n",
        "\n",
        "# --- Продолжаем построение метрик ---\n",
        "from sklearn.metrics import confusion_matrix, classification_report\n",
        "\n",
        "# --- Построение матрицы ошибок и отчета классификации ---\n",
        "conf_matrix = confusion_matrix(true_labels, predicted_classes)\n",
        "print(\"Confusion Matrix:\")\n",
        "print(conf_matrix)\n",
        "\n",
        "class_report = classification_report(true_labels, predicted_classes)\n",
        "print(\"Classification Report:\")\n",
        "print(class_report)\n"
      ]
    },
    {
      "cell_type": "markdown",
      "metadata": {
        "id": "lNbj7cHf050w"
      },
      "source": [
        "**Вывод:**\n",
        "1. Модель демонстрирует высокую эффективность в классификации изображений:\n",
        "  * Модель достигла accuracy = 0.95 (95%), что свидетельствует о её хорошей способности корректно классифицировать объекты и является высоким результатом.\n",
        "\n",
        "  * Значения precision, recall и F1-score для всех классов находятся в диапазоне 0.92–0.98, что говорит о сбалансированности модели и отсутствии сильного перекоса в сторону какого-либо класса.\n",
        "\n",
        "2. Анализ по классам с помощью Confusion Matrix:\n",
        "\n",
        "* Класс BIODEGRADABLE (0) показал наилучшие результаты (precision = 0.98, recall = 0.98, f1-score = 0.98),что говорит о почти без ошибочном распозновании данного класса моделью.\n",
        "\n",
        "* Остальные классы также демонстрируют высокие показатели (F1-score 0.93–0.95), но с небольшими вариациями:\n",
        "\n",
        "  * Класс CADRBOARD (1): Небольшая путаница с классом PAPER (4) (47 ошибок), что может указывать на схожесть их признаков, таких как текстура, цвет и тд.\n",
        "\n",
        "  * Класс GLASS (2): Основные ошибки связаны с классами METAL (3) и PLASTIC (5) (21 и 28 примеров), возникают, из-за частичного перекрытия признаков.\n"
      ]
    },
    {
      "cell_type": "markdown",
      "metadata": {
        "id": "AkvBwbqU_9sY"
      },
      "source": [
        "### Визуализация матрицы ошибок"
      ]
    },
    {
      "cell_type": "code",
      "execution_count": null,
      "metadata": {
        "dotnet_interactive": {
          "language": "csharp"
        },
        "id": "uPTBO5pMkzSX",
        "outputId": "19ed91d8-7ace-4d42-d7c6-b174e55d7f68",
        "polyglot_notebook": {
          "kernelName": "csharp"
        }
      },
      "outputs": [
        {
          "data": {
            "image/png": "[encoded data removed]",
            "text/plain": [
              "<Figure size 1000x800 with 2 Axes>"
            ]
          },
          "metadata": {},
          "output_type": "display_data"
        }
      ],
      "source": [
        "plt.figure(figsize=(10, 8))\n",
        "sns.heatmap(conf_matrix, annot=True, fmt='d', cmap='Blues', xticklabels=label_mapping_enhanced.values(), yticklabels=label_mapping_enhanced.values())\n",
        "plt.xlabel('Predicted Labels')\n",
        "plt.ylabel('True Labels')\n",
        "plt.title('Confusion Matrix')\n",
        "plt.show()"
      ]
    },
    {
      "cell_type": "markdown",
      "metadata": {
        "id": "sreOTt4P__Mn"
      },
      "source": [
        "**Вывод**\n",
        "\n",
        "Наибольшие ошибки наблюдаются при классификации следующих пар классов:\n",
        "\n",
        "* PAPER и CARDBOARD (47 объектов из класса PAPER ошибочно отнесли к классу CARDBOARD) - ошибки могут быть связаны со схожестью материалов,\n",
        "\n",
        "* PLASTIC и GLASS (28 объектов из класса PLASTIC ошибочно отнесли к классу GLASS) - ошибки могут быть связаны с прозрачностью объектов обоих классов.\n",
        "\n",
        "* GLASS и METAL (21 объект из класса GLASS ошибочно отнесли к классу METAL) - ошибки возможны, из-за отражений и блеска поверхности."
      ]
    },
    {
      "cell_type": "markdown",
      "metadata": {
        "id": "04M5km_W8psC"
      },
      "source": [
        "Сравнение результатов до и после балансировки данных\n",
        "1. Общие показатели:\n",
        "* До балансировки (3919) - accuracy = 0.93,\tпосле балансировки (5851)\t- accuracy = 0.95\n",
        "* До балансировки (3919) - F1-score = 0.93,\tпосле балансировки (5851)\t- F1-score = 0.95\n",
        "\n",
        "После балансировки общая точность и F1-score улучшились, что подтверждает её положительное влияние на модель.\n",
        "\n",
        "2. Анализ по классам:\n",
        "\n",
        "* Все классы стали более сбалансированными (F1-score 0.93–0.98).\n",
        "* Recall улучшился для проблемных классов (например, класс PAPER (4): с 0.88 до 0.94).\n",
        "* Confusion Matrix: Ошибки сократились, но остались между теми же классами (PAPER-CARDBOARD, PLASTIC-GLASS и METAL-GLASS).\n",
        "\n",
        "Балансировка уменьшила дисбаланс в качестве предсказаний, особенно для классов, которые ранее были в меньшинстве.\n"
      ]
    },
    {
      "cell_type": "markdown",
      "metadata": {
        "id": "ZJoNmFOa9xFJ"
      },
      "source": [
        "### Анализ AUC-ROC"
      ]
    },
    {
      "cell_type": "markdown",
      "metadata": {
        "id": "z92Ao8vSAPzK"
      },
      "source": [
        "AUC (Area Under the Curve) — это метрика качества бинарных классификаторов, измеряющая разделяющую способность модели. Чем ближе AUC к 1.0, тем лучше модель различает классы."
      ]
    },
    {
      "cell_type": "code",
      "execution_count": null,
      "metadata": {
        "id": "2Y1dcIsQkzSX",
        "outputId": "ba0977c8-b510-44f7-ff28-3d72851bba8c"
      },
      "outputs": [
        {
          "name": "stdout",
          "output_type": "stream",
          "text": [
            "Класс 0: AUC = 0.9996010477023926\n",
            "Класс 1: AUC = 0.9968426212611917\n",
            "Класс 2: AUC = 0.9961527992617624\n",
            "Класс 3: AUC = 0.997118690158738\n",
            "Класс 4: AUC = 0.9941381304672627\n",
            "Класс 5: AUC = 0.9953713007419316\n"
          ]
        }
      ],
      "source": [
        "# Преобразуем метки в бинарный формат\n",
        "y_bin = label_binarize(true_labels, classes=[0, 1, 2, 3, 4, 5])\n",
        "\n",
        "# Строим ROC-кривую для каждого класса\n",
        "for i in range(y_bin.shape[1]):  # Перебираем классы\n",
        "    fpr, tpr, _ = roc_curve(y_bin[:, i], predictions[:, i])\n",
        "    roc_auc = auc(fpr, tpr)\n",
        "    print(f\"Класс {i}: AUC = {roc_auc}\")\n"
      ]
    },
    {
      "cell_type": "markdown",
      "metadata": {
        "id": "auQf_ilQ-J0j"
      },
      "source": [
        "### Построение ROC-кривых для каждого класса"
      ]
    },
    {
      "cell_type": "code",
      "execution_count": null,
      "metadata": {
        "id": "a3JUwNVwkzSY",
        "outputId": "6c50b358-79ba-41f3-fc45-4ddbd4522909"
      },
      "outputs": [
        {
          "name": "stdout",
          "output_type": "stream",
          "text": [
            "Форма y_bin: (5851, 6)\n",
            "Форма predictions до исправления: (5851, 6)\n",
            "Форма predictions после исправления: (5851, 6)\n"
          ]
        },
        {
          "data": {
            "image/png": "[encoded data removed]",
            "text/plain": [
              "<Figure size 800x600 with 1 Axes>"
            ]
          },
          "metadata": {},
          "output_type": "display_data"
        }
      ],
      "source": [
        "# Проверяем размеры массивов\n",
        "print(\"Форма y_bin:\", y_bin.shape)\n",
        "print(\"Форма predictions до исправления:\", predictions.shape)\n",
        "print(\"Форма predictions после исправления:\", predictions.shape)\n",
        "\n",
        "# Построение графика ROC-кривых\n",
        "plt.figure(figsize=(8, 6))\n",
        "\n",
        "for i in range(y_bin.shape[1]):\n",
        "    fpr, tpr, _ = roc_curve(y_bin[:, i], predictions[:, i])\n",
        "    roc_auc = auc(fpr, tpr)\n",
        "    plt.plot(fpr, tpr, label=f'Класс {i} (AUC = {roc_auc:.3f})')\n",
        "\n",
        "# Добавляем линии и подписи\n",
        "plt.plot([0, 1], [0, 1], 'k--')  # Линия случайной классификации\n",
        "plt.xlabel('False Positive Rate (FPR)')\n",
        "plt.ylabel('True Positive Rate (TPR)')\n",
        "plt.title('ROC-кривые для каждого класса')\n",
        "plt.legend(loc=\"lower right\")\n",
        "plt.grid()\n",
        "plt.show()\n"
      ]
    },
    {
      "cell_type": "markdown",
      "metadata": {
        "id": "1dyrFg-vBLsf"
      },
      "source": [
        "1. Общая оценка модели:\n",
        "\n",
        "Значения AUC для всех классов находятся в диапазоне 0.994–0.999, что говорит о высоком качестве работы модели.\n",
        "\n",
        "2. Сравнительный анализ классов:\n",
        "\n",
        "  * AUC > 0.99 для каждого класса означает, что модель отлично разделяет положительные и отрицательные примеры.\n",
        "\n",
        "  * Класс BIODEGRADABLE (0) демонстрирует наилучший результат (AUC ≈ 0.9996), что говорит о почти идеальном разделении.\n",
        "\n",
        "  * Класс PAPER (4) имеет самый низкий (но всё равно очень высокий) показатель (AUC ≈ 0.994), что может указывать на немного большую сложность в классификации. Такое возможно из-за того что объекты класса PAPER (4) имеет больше пересечений признаков с другими классами такими как CARDBOARD (1) и PLASTIC(5) (например, материал, отражающая поверхность и тд.)\n",
        "\n",
        "**Вывод:**\n",
        "\n",
        "Модель достигла почти идеальных значений AUC (0.994–0.999), что означает, что модель очень редко ошибается при классификации. Это подтверждает эффективность выбранной архитектуры и балансировки данных."
      ]
    },
    {
      "cell_type": "markdown",
      "metadata": {
        "id": "KmXPlYyu-uGV"
      },
      "source": [
        "## Сохранение модели"
      ]
    },
    {
      "cell_type": "code",
      "execution_count": null,
      "metadata": {
        "id": "0SY-dJ6WkzSY",
        "outputId": "d5b30e59-e969-46b0-8e46-da50e2c20963"
      },
      "outputs": [
        {
          "name": "stdout",
          "output_type": "stream",
          "text": [
            "INFO:tensorflow:Assets written to: trash_model\\assets\n"
          ]
        },
        {
          "name": "stderr",
          "output_type": "stream",
          "text": [
            "INFO:tensorflow:Assets written to: trash_model\\assets\n"
          ]
        },
        {
          "name": "stdout",
          "output_type": "stream",
          "text": [
            "Saved artifact at 'trash_model'. The following endpoints are available:\n",
            "\n",
            "* Endpoint 'serve'\n",
            "  args_0 (POSITIONAL_ONLY): TensorSpec(shape=(None, 224, 224, 3), dtype=tf.float32, name='keras_tensor')\n",
            "Output Type:\n",
            "  TensorSpec(shape=(None, 6), dtype=tf.float32, name=None)\n",
            "Captures:\n",
            "  2593595577104: TensorSpec(shape=(), dtype=tf.resource, name=None)\n",
            "  2593595577680: TensorSpec(shape=(), dtype=tf.resource, name=None)\n",
            "  2593595579600: TensorSpec(shape=(), dtype=tf.resource, name=None)\n",
            "  2593595579216: TensorSpec(shape=(), dtype=tf.resource, name=None)\n",
            "  2593595578064: TensorSpec(shape=(), dtype=tf.resource, name=None)\n",
            "  2593595579792: TensorSpec(shape=(), dtype=tf.resource, name=None)\n",
            "  2593595578832: TensorSpec(shape=(), dtype=tf.resource, name=None)\n",
            "  2593595577296: TensorSpec(shape=(), dtype=tf.resource, name=None)\n",
            "  2593595579984: TensorSpec(shape=(), dtype=tf.resource, name=None)\n",
            "  2593595577872: TensorSpec(shape=(), dtype=tf.resource, name=None)\n",
            "  2593595580368: TensorSpec(shape=(), dtype=tf.resource, name=None)\n",
            "  2593595581904: TensorSpec(shape=(), dtype=tf.resource, name=None)\n",
            "  2593595578640: TensorSpec(shape=(), dtype=tf.resource, name=None)\n",
            "  2593595578448: TensorSpec(shape=(), dtype=tf.resource, name=None)\n",
            "  2593595580944: TensorSpec(shape=(), dtype=tf.resource, name=None)\n",
            "  2593595583824: TensorSpec(shape=(), dtype=tf.resource, name=None)\n",
            "  2593595585744: TensorSpec(shape=(), dtype=tf.resource, name=None)\n",
            "  2593595584400: TensorSpec(shape=(), dtype=tf.resource, name=None)\n",
            "  2593595584784: TensorSpec(shape=(), dtype=tf.resource, name=None)\n",
            "  2593595583632: TensorSpec(shape=(), dtype=tf.resource, name=None)\n",
            "  2593595587280: TensorSpec(shape=(), dtype=tf.resource, name=None)\n",
            "  2593595588432: TensorSpec(shape=(), dtype=tf.resource, name=None)\n",
            "  2593595587856: TensorSpec(shape=(), dtype=tf.resource, name=None)\n",
            "  2593595587472: TensorSpec(shape=(), dtype=tf.resource, name=None)\n",
            "  2593595586128: TensorSpec(shape=(), dtype=tf.resource, name=None)\n",
            "  2593595584976: TensorSpec(shape=(), dtype=tf.resource, name=None)\n",
            "  2596846880144: TensorSpec(shape=(), dtype=tf.resource, name=None)\n",
            "  2596846879184: TensorSpec(shape=(), dtype=tf.resource, name=None)\n",
            "  2596846879952: TensorSpec(shape=(), dtype=tf.resource, name=None)\n",
            "  2596846878992: TensorSpec(shape=(), dtype=tf.resource, name=None)\n",
            "  2596846881680: TensorSpec(shape=(), dtype=tf.resource, name=None)\n",
            "  2596846882064: TensorSpec(shape=(), dtype=tf.resource, name=None)\n",
            "  2596846882448: TensorSpec(shape=(), dtype=tf.resource, name=None)\n",
            "  2596846882256: TensorSpec(shape=(), dtype=tf.resource, name=None)\n",
            "  2596846879376: TensorSpec(shape=(), dtype=tf.resource, name=None)\n",
            "  2596846883600: TensorSpec(shape=(), dtype=tf.resource, name=None)\n",
            "  2596846883984: TensorSpec(shape=(), dtype=tf.resource, name=None)\n",
            "  2596846884368: TensorSpec(shape=(), dtype=tf.resource, name=None)\n",
            "  2596846884176: TensorSpec(shape=(), dtype=tf.resource, name=None)\n",
            "  2596846880528: TensorSpec(shape=(), dtype=tf.resource, name=None)\n",
            "  2596846881296: TensorSpec(shape=(), dtype=tf.resource, name=None)\n",
            "  2596846886096: TensorSpec(shape=(), dtype=tf.resource, name=None)\n",
            "  2596846886480: TensorSpec(shape=(), dtype=tf.resource, name=None)\n",
            "  2596846886288: TensorSpec(shape=(), dtype=tf.resource, name=None)\n",
            "  2596846882832: TensorSpec(shape=(), dtype=tf.resource, name=None)\n",
            "  2596846885136: TensorSpec(shape=(), dtype=tf.resource, name=None)\n",
            "  2596846888208: TensorSpec(shape=(), dtype=tf.resource, name=None)\n",
            "  2596846888592: TensorSpec(shape=(), dtype=tf.resource, name=None)\n",
            "  2596846888400: TensorSpec(shape=(), dtype=tf.resource, name=None)\n",
            "  2596846885520: TensorSpec(shape=(), dtype=tf.resource, name=None)\n",
            "  2596846889744: TensorSpec(shape=(), dtype=tf.resource, name=None)\n",
            "  2596846890128: TensorSpec(shape=(), dtype=tf.resource, name=None)\n",
            "  2596846890512: TensorSpec(shape=(), dtype=tf.resource, name=None)\n",
            "  2596846890320: TensorSpec(shape=(), dtype=tf.resource, name=None)\n",
            "  2596846887248: TensorSpec(shape=(), dtype=tf.resource, name=None)\n",
            "  2596846891664: TensorSpec(shape=(), dtype=tf.resource, name=None)\n",
            "  2596846892048: TensorSpec(shape=(), dtype=tf.resource, name=None)\n",
            "  2596846892432: TensorSpec(shape=(), dtype=tf.resource, name=None)\n",
            "  2596846892240: TensorSpec(shape=(), dtype=tf.resource, name=None)\n",
            "  2596846887824: TensorSpec(shape=(), dtype=tf.resource, name=None)\n",
            "  2596846893584: TensorSpec(shape=(), dtype=tf.resource, name=None)\n",
            "  2596846893968: TensorSpec(shape=(), dtype=tf.resource, name=None)\n",
            "  2596846894736: TensorSpec(shape=(), dtype=tf.resource, name=None)\n",
            "  2596846894160: TensorSpec(shape=(), dtype=tf.resource, name=None)\n",
            "  2596846889360: TensorSpec(shape=(), dtype=tf.resource, name=None)\n",
            "  2596846892816: TensorSpec(shape=(), dtype=tf.resource, name=None)\n",
            "  2596848649232: TensorSpec(shape=(), dtype=tf.resource, name=None)\n",
            "  2596848648272: TensorSpec(shape=(), dtype=tf.resource, name=None)\n",
            "  2596846893200: TensorSpec(shape=(), dtype=tf.resource, name=None)\n",
            "  2596848648464: TensorSpec(shape=(), dtype=tf.resource, name=None)\n",
            "  2596848650576: TensorSpec(shape=(), dtype=tf.resource, name=None)\n",
            "  2596848650960: TensorSpec(shape=(), dtype=tf.resource, name=None)\n",
            "  2596848651344: TensorSpec(shape=(), dtype=tf.resource, name=None)\n",
            "  2596848651152: TensorSpec(shape=(), dtype=tf.resource, name=None)\n",
            "  2596848648656: TensorSpec(shape=(), dtype=tf.resource, name=None)\n",
            "  2596848652496: TensorSpec(shape=(), dtype=tf.resource, name=None)\n",
            "  2596848652880: TensorSpec(shape=(), dtype=tf.resource, name=None)\n",
            "  2596848653264: TensorSpec(shape=(), dtype=tf.resource, name=None)\n",
            "  2596848653072: TensorSpec(shape=(), dtype=tf.resource, name=None)\n",
            "  2596848649040: TensorSpec(shape=(), dtype=tf.resource, name=None)\n",
            "  2596848654416: TensorSpec(shape=(), dtype=tf.resource, name=None)\n",
            "  2596848654800: TensorSpec(shape=(), dtype=tf.resource, name=None)\n",
            "  2596848655184: TensorSpec(shape=(), dtype=tf.resource, name=None)\n",
            "  2596848654992: TensorSpec(shape=(), dtype=tf.resource, name=None)\n",
            "  2596848650192: TensorSpec(shape=(), dtype=tf.resource, name=None)\n",
            "  2596848656336: TensorSpec(shape=(), dtype=tf.resource, name=None)\n",
            "  2596848656720: TensorSpec(shape=(), dtype=tf.resource, name=None)\n",
            "  2596848657104: TensorSpec(shape=(), dtype=tf.resource, name=None)\n",
            "  2596848656912: TensorSpec(shape=(), dtype=tf.resource, name=None)\n",
            "  2596848652112: TensorSpec(shape=(), dtype=tf.resource, name=None)\n",
            "  2596848658256: TensorSpec(shape=(), dtype=tf.resource, name=None)\n",
            "  2596848658640: TensorSpec(shape=(), dtype=tf.resource, name=None)\n",
            "  2596848659024: TensorSpec(shape=(), dtype=tf.resource, name=None)\n",
            "  2596848658832: TensorSpec(shape=(), dtype=tf.resource, name=None)\n",
            "  2596848654032: TensorSpec(shape=(), dtype=tf.resource, name=None)\n",
            "  2596848660176: TensorSpec(shape=(), dtype=tf.resource, name=None)\n",
            "  2596848660560: TensorSpec(shape=(), dtype=tf.resource, name=None)\n",
            "  2596848660944: TensorSpec(shape=(), dtype=tf.resource, name=None)\n",
            "  2596848660752: TensorSpec(shape=(), dtype=tf.resource, name=None)\n",
            "  2596848655952: TensorSpec(shape=(), dtype=tf.resource, name=None)\n",
            "  2596848662096: TensorSpec(shape=(), dtype=tf.resource, name=None)\n",
            "  2596848662480: TensorSpec(shape=(), dtype=tf.resource, name=None)\n",
            "  2596848662864: TensorSpec(shape=(), dtype=tf.resource, name=None)\n",
            "  2596848662672: TensorSpec(shape=(), dtype=tf.resource, name=None)\n",
            "  2596848657872: TensorSpec(shape=(), dtype=tf.resource, name=None)\n",
            "  2596848664016: TensorSpec(shape=(), dtype=tf.resource, name=None)\n",
            "  2596848649424: TensorSpec(shape=(), dtype=tf.resource, name=None)\n",
            "  2596848664400: TensorSpec(shape=(), dtype=tf.resource, name=None)\n",
            "  2596848664208: TensorSpec(shape=(), dtype=tf.resource, name=None)\n",
            "  2596848661712: TensorSpec(shape=(), dtype=tf.resource, name=None)\n",
            "  2596849485200: TensorSpec(shape=(), dtype=tf.resource, name=None)\n",
            "  2596849485584: TensorSpec(shape=(), dtype=tf.resource, name=None)\n",
            "  2596849485968: TensorSpec(shape=(), dtype=tf.resource, name=None)\n",
            "  2596849485776: TensorSpec(shape=(), dtype=tf.resource, name=None)\n",
            "  2596849484048: TensorSpec(shape=(), dtype=tf.resource, name=None)\n",
            "  2596849487120: TensorSpec(shape=(), dtype=tf.resource, name=None)\n",
            "  2596849487504: TensorSpec(shape=(), dtype=tf.resource, name=None)\n",
            "  2596849487888: TensorSpec(shape=(), dtype=tf.resource, name=None)\n",
            "  2596849487696: TensorSpec(shape=(), dtype=tf.resource, name=None)\n",
            "  2596849484432: TensorSpec(shape=(), dtype=tf.resource, name=None)\n",
            "  2596849489040: TensorSpec(shape=(), dtype=tf.resource, name=None)\n",
            "  2596849489424: TensorSpec(shape=(), dtype=tf.resource, name=None)\n",
            "  2596849489808: TensorSpec(shape=(), dtype=tf.resource, name=None)\n",
            "  2596849489616: TensorSpec(shape=(), dtype=tf.resource, name=None)\n",
            "  2596849484624: TensorSpec(shape=(), dtype=tf.resource, name=None)\n",
            "  2596849490960: TensorSpec(shape=(), dtype=tf.resource, name=None)\n",
            "  2596849491344: TensorSpec(shape=(), dtype=tf.resource, name=None)\n",
            "  2596849491728: TensorSpec(shape=(), dtype=tf.resource, name=None)\n",
            "  2596849491536: TensorSpec(shape=(), dtype=tf.resource, name=None)\n",
            "  2596849486736: TensorSpec(shape=(), dtype=tf.resource, name=None)\n",
            "  2596849492880: TensorSpec(shape=(), dtype=tf.resource, name=None)\n",
            "  2596849493264: TensorSpec(shape=(), dtype=tf.resource, name=None)\n",
            "  2596849493648: TensorSpec(shape=(), dtype=tf.resource, name=None)\n",
            "  2596849493456: TensorSpec(shape=(), dtype=tf.resource, name=None)\n",
            "  2596849488656: TensorSpec(shape=(), dtype=tf.resource, name=None)\n",
            "  2596849494800: TensorSpec(shape=(), dtype=tf.resource, name=None)\n",
            "  2596849495184: TensorSpec(shape=(), dtype=tf.resource, name=None)\n",
            "  2596849495568: TensorSpec(shape=(), dtype=tf.resource, name=None)\n",
            "  2596849495376: TensorSpec(shape=(), dtype=tf.resource, name=None)\n",
            "  2596849490576: TensorSpec(shape=(), dtype=tf.resource, name=None)\n",
            "  2596849496720: TensorSpec(shape=(), dtype=tf.resource, name=None)\n",
            "  2596849497104: TensorSpec(shape=(), dtype=tf.resource, name=None)\n",
            "  2596849497488: TensorSpec(shape=(), dtype=tf.resource, name=None)\n",
            "  2596849497296: TensorSpec(shape=(), dtype=tf.resource, name=None)\n",
            "  2596849492496: TensorSpec(shape=(), dtype=tf.resource, name=None)\n",
            "  2596849498640: TensorSpec(shape=(), dtype=tf.resource, name=None)\n",
            "  2596849499024: TensorSpec(shape=(), dtype=tf.resource, name=None)\n",
            "  2596849499792: TensorSpec(shape=(), dtype=tf.resource, name=None)\n",
            "  2596849499216: TensorSpec(shape=(), dtype=tf.resource, name=None)\n",
            "  2596849494416: TensorSpec(shape=(), dtype=tf.resource, name=None)\n",
            "  2596849497872: TensorSpec(shape=(), dtype=tf.resource, name=None)\n",
            "  2596931502160: TensorSpec(shape=(), dtype=tf.resource, name=None)\n",
            "  2596931503312: TensorSpec(shape=(), dtype=tf.resource, name=None)\n",
            "  2596849498256: TensorSpec(shape=(), dtype=tf.resource, name=None)\n",
            "  2596931503120: TensorSpec(shape=(), dtype=tf.resource, name=None)\n",
            "  2596931504464: TensorSpec(shape=(), dtype=tf.resource, name=None)\n",
            "  2596931504848: TensorSpec(shape=(), dtype=tf.resource, name=None)\n",
            "  2596931505232: TensorSpec(shape=(), dtype=tf.resource, name=None)\n",
            "  2596931505040: TensorSpec(shape=(), dtype=tf.resource, name=None)\n",
            "  2596931502928: TensorSpec(shape=(), dtype=tf.resource, name=None)\n",
            "  2596931506384: TensorSpec(shape=(), dtype=tf.resource, name=None)\n",
            "  2596931506768: TensorSpec(shape=(), dtype=tf.resource, name=None)\n",
            "  2596931507152: TensorSpec(shape=(), dtype=tf.resource, name=None)\n",
            "  2596931506960: TensorSpec(shape=(), dtype=tf.resource, name=None)\n",
            "  2596931502352: TensorSpec(shape=(), dtype=tf.resource, name=None)\n",
            "  2596931508304: TensorSpec(shape=(), dtype=tf.resource, name=None)\n",
            "  2596931508688: TensorSpec(shape=(), dtype=tf.resource, name=None)\n",
            "  2596931509072: TensorSpec(shape=(), dtype=tf.resource, name=None)\n",
            "  2596931508880: TensorSpec(shape=(), dtype=tf.resource, name=None)\n",
            "  2596931504080: TensorSpec(shape=(), dtype=tf.resource, name=None)\n",
            "  2596931510224: TensorSpec(shape=(), dtype=tf.resource, name=None)\n",
            "  2596931510608: TensorSpec(shape=(), dtype=tf.resource, name=None)\n",
            "  2596931510992: TensorSpec(shape=(), dtype=tf.resource, name=None)\n",
            "  2596931510800: TensorSpec(shape=(), dtype=tf.resource, name=None)\n",
            "  2596931506000: TensorSpec(shape=(), dtype=tf.resource, name=None)\n",
            "  2596931512144: TensorSpec(shape=(), dtype=tf.resource, name=None)\n",
            "  2596931512528: TensorSpec(shape=(), dtype=tf.resource, name=None)\n",
            "  2596931512912: TensorSpec(shape=(), dtype=tf.resource, name=None)\n",
            "  2596931512720: TensorSpec(shape=(), dtype=tf.resource, name=None)\n",
            "  2596931507920: TensorSpec(shape=(), dtype=tf.resource, name=None)\n",
            "  2596931514064: TensorSpec(shape=(), dtype=tf.resource, name=None)\n",
            "  2596931514448: TensorSpec(shape=(), dtype=tf.resource, name=None)\n",
            "  2596931514832: TensorSpec(shape=(), dtype=tf.resource, name=None)\n",
            "  2596931514640: TensorSpec(shape=(), dtype=tf.resource, name=None)\n",
            "  2596931509840: TensorSpec(shape=(), dtype=tf.resource, name=None)\n",
            "  2596931515984: TensorSpec(shape=(), dtype=tf.resource, name=None)\n",
            "  2596931516368: TensorSpec(shape=(), dtype=tf.resource, name=None)\n",
            "  2596931516752: TensorSpec(shape=(), dtype=tf.resource, name=None)\n",
            "  2596931516560: TensorSpec(shape=(), dtype=tf.resource, name=None)\n",
            "  2596931511760: TensorSpec(shape=(), dtype=tf.resource, name=None)\n",
            "  2596931517904: TensorSpec(shape=(), dtype=tf.resource, name=None)\n",
            "  2596931502544: TensorSpec(shape=(), dtype=tf.resource, name=None)\n",
            "  2596931518288: TensorSpec(shape=(), dtype=tf.resource, name=None)\n",
            "  2596931518096: TensorSpec(shape=(), dtype=tf.resource, name=None)\n",
            "  2596931515600: TensorSpec(shape=(), dtype=tf.resource, name=None)\n",
            "  2596931863952: TensorSpec(shape=(), dtype=tf.resource, name=None)\n",
            "  2596931864336: TensorSpec(shape=(), dtype=tf.resource, name=None)\n",
            "  2596931864720: TensorSpec(shape=(), dtype=tf.resource, name=None)\n",
            "  2596931864528: TensorSpec(shape=(), dtype=tf.resource, name=None)\n",
            "  2596931862800: TensorSpec(shape=(), dtype=tf.resource, name=None)\n",
            "  2596931865872: TensorSpec(shape=(), dtype=tf.resource, name=None)\n",
            "  2596931866256: TensorSpec(shape=(), dtype=tf.resource, name=None)\n",
            "  2596931866640: TensorSpec(shape=(), dtype=tf.resource, name=None)\n",
            "  2596931866448: TensorSpec(shape=(), dtype=tf.resource, name=None)\n",
            "  2596931863184: TensorSpec(shape=(), dtype=tf.resource, name=None)\n",
            "  2596931867792: TensorSpec(shape=(), dtype=tf.resource, name=None)\n",
            "  2596931868176: TensorSpec(shape=(), dtype=tf.resource, name=None)\n",
            "  2596931868560: TensorSpec(shape=(), dtype=tf.resource, name=None)\n",
            "  2596931868368: TensorSpec(shape=(), dtype=tf.resource, name=None)\n",
            "  2596931863376: TensorSpec(shape=(), dtype=tf.resource, name=None)\n",
            "  2596931869712: TensorSpec(shape=(), dtype=tf.resource, name=None)\n",
            "  2596931870096: TensorSpec(shape=(), dtype=tf.resource, name=None)\n",
            "  2596931870480: TensorSpec(shape=(), dtype=tf.resource, name=None)\n",
            "  2596931870288: TensorSpec(shape=(), dtype=tf.resource, name=None)\n",
            "  2596931865488: TensorSpec(shape=(), dtype=tf.resource, name=None)\n",
            "  2596931871632: TensorSpec(shape=(), dtype=tf.resource, name=None)\n",
            "  2596931872016: TensorSpec(shape=(), dtype=tf.resource, name=None)\n",
            "  2596931867408: TensorSpec(shape=(), dtype=tf.resource, name=None)\n",
            "  2593166772368: TensorSpec(shape=(), dtype=tf.resource, name=None)\n",
            "  2596931869328: TensorSpec(shape=(), dtype=tf.resource, name=None)\n",
            "  2596931870864: TensorSpec(shape=(), dtype=tf.resource, name=None)\n",
            "  2596931873936: TensorSpec(shape=(), dtype=tf.resource, name=None)\n",
            "  2596931874320: TensorSpec(shape=(), dtype=tf.resource, name=None)\n",
            "  2596931874128: TensorSpec(shape=(), dtype=tf.resource, name=None)\n",
            "  2596931863568: TensorSpec(shape=(), dtype=tf.resource, name=None)\n",
            "  2596931875472: TensorSpec(shape=(), dtype=tf.resource, name=None)\n",
            "  2596931875856: TensorSpec(shape=(), dtype=tf.resource, name=None)\n",
            "  2596931876240: TensorSpec(shape=(), dtype=tf.resource, name=None)\n",
            "  2596931876048: TensorSpec(shape=(), dtype=tf.resource, name=None)\n",
            "  2596931872976: TensorSpec(shape=(), dtype=tf.resource, name=None)\n",
            "  2596931877392: TensorSpec(shape=(), dtype=tf.resource, name=None)\n",
            "  2596931877776: TensorSpec(shape=(), dtype=tf.resource, name=None)\n",
            "  2596931878544: TensorSpec(shape=(), dtype=tf.resource, name=None)\n",
            "  2596931877968: TensorSpec(shape=(), dtype=tf.resource, name=None)\n",
            "  2596931873552: TensorSpec(shape=(), dtype=tf.resource, name=None)\n",
            "  2596931876624: TensorSpec(shape=(), dtype=tf.resource, name=None)\n",
            "  2596932141712: TensorSpec(shape=(), dtype=tf.resource, name=None)\n",
            "  2596932142288: TensorSpec(shape=(), dtype=tf.resource, name=None)\n",
            "  2596931877008: TensorSpec(shape=(), dtype=tf.resource, name=None)\n",
            "  2596932141328: TensorSpec(shape=(), dtype=tf.resource, name=None)\n",
            "  2596932143440: TensorSpec(shape=(), dtype=tf.resource, name=None)\n",
            "  2596932143824: TensorSpec(shape=(), dtype=tf.resource, name=None)\n",
            "  2596932144208: TensorSpec(shape=(), dtype=tf.resource, name=None)\n",
            "  2596932144016: TensorSpec(shape=(), dtype=tf.resource, name=None)\n",
            "  2596932141136: TensorSpec(shape=(), dtype=tf.resource, name=None)\n",
            "  2596932145360: TensorSpec(shape=(), dtype=tf.resource, name=None)\n",
            "  2596932145744: TensorSpec(shape=(), dtype=tf.resource, name=None)\n",
            "  2596932146128: TensorSpec(shape=(), dtype=tf.resource, name=None)\n",
            "  2596932145936: TensorSpec(shape=(), dtype=tf.resource, name=None)\n",
            "  2596932141904: TensorSpec(shape=(), dtype=tf.resource, name=None)\n",
            "  2596932147280: TensorSpec(shape=(), dtype=tf.resource, name=None)\n",
            "  2596932147664: TensorSpec(shape=(), dtype=tf.resource, name=None)\n",
            "  2596932148048: TensorSpec(shape=(), dtype=tf.resource, name=None)\n",
            "  2596932147856: TensorSpec(shape=(), dtype=tf.resource, name=None)\n",
            "  2596932143056: TensorSpec(shape=(), dtype=tf.resource, name=None)\n",
            "  2596932149200: TensorSpec(shape=(), dtype=tf.resource, name=None)\n",
            "  2596932149584: TensorSpec(shape=(), dtype=tf.resource, name=None)\n",
            "  2596932149968: TensorSpec(shape=(), dtype=tf.resource, name=None)\n",
            "  2596932149776: TensorSpec(shape=(), dtype=tf.resource, name=None)\n",
            "  2596932144976: TensorSpec(shape=(), dtype=tf.resource, name=None)\n",
            "  2596932146896: TensorSpec(shape=(), dtype=tf.resource, name=None)\n",
            "  2596932152272: TensorSpec(shape=(), dtype=tf.resource, name=None)\n",
            "  2596932151696: TensorSpec(shape=(), dtype=tf.resource, name=None)\n",
            "  2596932153040: TensorSpec(shape=(), dtype=tf.resource, name=None)\n"
          ]
        }
      ],
      "source": [
        "# Сохраняем модель в формате SavedModel\n",
        "model.export('trash_model')"
      ]
    },
    {
      "cell_type": "markdown",
      "metadata": {
        "id": "T-mDC71e_LHE"
      },
      "source": [
        "## Заключение"
      ]
    },
    {
      "cell_type": "markdown",
      "metadata": {
        "id": "Sb_YMlOo-xMA"
      },
      "source": [
        "**В ходе обучения модели:**\n",
        "1. Проведена предобработка данных, изображения преобразовывались в numpy-массивы с изменением размера до 224x224 пикселей, а также была реализована аугментация данных для балансировки классов (вращение, отражение, настройка яркости и контрастности).\n",
        "2. Выполнена балансировка классов (Для классов с недостаточным количеством образцов создавались дополнительные аугментированные версии), в результате которой все классы были приведены к одинаковому количеству образцов.\n",
        "3. Построена архитектура модели с использованием предобученная MobileNetV2 (без верхних слоев) в качестве базовой модели.\n",
        "4. Выполнено обучение модели с использованием генератора данных для эффективной работы с большим объемом изображений.\n",
        "5. Проведена оценка полученных результатов. А именно:\n",
        "\n",
        "*   Рассчитаны метрики accuracy и loss на валидационной выборке\n",
        "*   Построена матрица ошибок и отчет классификации\n",
        "*   Построены ROC-кривые и рассчитаны AUC для каждого класса\n",
        "\n",
        "\n",
        "---\n",
        "\n",
        "\n",
        "**В результате:**\n",
        "1. Модель продемонстрировала высокую эффективность в решении задачи классификации:\n",
        "\n",
        "  * Accuracy ≈ 98.7% — выдающийся показатель, подтверждающий, что модель правильно предсказывает подавляющее большинство примеров.\n",
        "\n",
        "  * AUC > 0.99 для всех классов — означает, что модель почти идеально разделяет классы, минимизируя ошибки.\n",
        "\n",
        "  * Сбалансированные метрики (Precision, Recall, F1-score) — все классы распознаются с высокой точностью (F1-score 0.93–0.98), без значительного перекоса в сторону какого-либо одного класса.\n",
        "\n",
        "2. Несмотря на отличные результаты, модель испытывает небольшие трудности с некоторыми классами:\n",
        "\n",
        "  * Классы 1, 4 и 5 имеют чуть более низкий recall (0.88–0.94) по сравнению с другими, что указывает на их частичную схожесть (например, классы 1 и 4 путаются между собой).\n",
        "\n",
        "  * Матрица ошибок показывает, что основные ошибки связаны с перекрывающимися признаками (например, класс 2 иногда путают с классом 5).\n",
        "\n",
        "3. Балансировка данных существенно улучшила качество модели:\n",
        "\n",
        "  * Рост accuracy с 93% до 95% (в сравнении с несбалансированными данными).\n",
        "\n",
        "  * Улучшение recall для меньшинственных классов (например, класс 5: recall вырос с 0.88 до 0.94).\n",
        "\n",
        "**Балансировка данных устранила дисбаланс в обучении, позволив модели одинаково хорошо распознавать все классы, а не только доминирующие, что улучшило итоговые результаты.**\n",
        "  "
      ]
    }
  ],
  "metadata": {
    "accelerator": "GPU",
    "colab": {
      "gpuType": "T4",
      "provenance": [],
      "toc_visible": true
    },
    "kernelspec": {
      "display_name": "Python 3",
      "language": "python",
      "name": "python3"
    },
    "language_info": {
      "codemirror_mode": {
        "name": "ipython",
        "version": 3
      },
      "file_extension": ".py",
      "mimetype": "text/x-python",
      "name": "python",
      "nbconvert_exporter": "python",
      "pygments_lexer": "ipython3",
      "version": "3.12.9"
    },
    "polyglot_notebook": {
      "kernelInfo": {
        "defaultKernelName": "csharp",
        "items": [
          {
            "aliases": [],
            "name": "csharp"
          }
        ]
      }
    }
  },
  "nbformat": 4,
  "nbformat_minor": 0
}
