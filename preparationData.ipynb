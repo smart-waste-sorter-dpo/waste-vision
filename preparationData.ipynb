{
  "nbformat": 4,
  "nbformat_minor": 0,
  "metadata": {
    "colab": {
      "provenance": []
    },
    "kernelspec": {
      "name": "python3",
      "display_name": "Python 3"
    },
    "language_info": {
      "name": "python"
    }
  },
  "cells": [
    {
      "cell_type": "markdown",
      "source": [
        "# Импорт библиотек"
      ],
      "metadata": {
        "id": "vQ6j9oVudEyX"
      }
    },
    {
      "cell_type": "code",
      "source": [
        "from io import BytesIO\n",
        "import matplotlib.pyplot as plt\n",
        "import pandas as pd\n",
        "import numpy as np\n",
        "import seaborn as sns\n",
        "from PIL import Image, ImageStat\n",
        "import io\n",
        "import torch\n",
        "from torchvision import transforms\n",
        "import os\n",
        "import random\n",
        "from sklearn.model_selection import train_test_split"
      ],
      "metadata": {
        "id": "JjC1C9BMdHHt"
      },
      "execution_count": 1,
      "outputs": []
    },
    {
      "cell_type": "markdown",
      "source": [
        "# Подготовка данных trashnet_enhanced к обучению\n",
        "\n"
      ],
      "metadata": {
        "id": "1U0kpseDWQH3"
      }
    },
    {
      "cell_type": "markdown",
      "source": [
        "## Загрузка данных"
      ],
      "metadata": {
        "id": "jyhhwUuoWb6f"
      }
    },
    {
      "cell_type": "code",
      "execution_count": 2,
      "metadata": {
        "id": "YhzFgE-WWD7e"
      },
      "outputs": [],
      "source": [
        "# Функция для загрузки датасета в формате parquet\n",
        "def get_df_from_hf_parquet(base_url: str, parquet_count: int) -> pd.DataFrame:\n",
        "  urls = [base_url + f\"{i:04}.parquet\" for i in range(0, parquet_count)]\n",
        "  return pd.concat([pd.read_parquet(url) for url in urls])"
      ]
    },
    {
      "cell_type": "code",
      "source": [
        "enhanced_url = \"https://huggingface.co/datasets/edwinpalegre/trashnet_enhanced/resolve/refs%2Fconvert%2Fparquet/default/train/\"\n",
        "\n",
        "df_enhanced = get_df_from_hf_parquet(enhanced_url, 100)"
      ],
      "metadata": {
        "id": "4dM9Xh8bcHCd"
      },
      "execution_count": 4,
      "outputs": []
    },
    {
      "cell_type": "markdown",
      "source": [
        "удаление прошлых данных"
      ],
      "metadata": {
        "id": "jSAvVPc8D1c8"
      }
    },
    {
      "cell_type": "code",
      "source": [
        "#!rm -rf /content/resized_images\n",
        "#!rm -rf /content/augmented_images"
      ],
      "metadata": {
        "id": "zD8wByKgDqR-"
      },
      "execution_count": 5,
      "outputs": []
    },
    {
      "cell_type": "markdown",
      "source": [
        "## Названия лейблов\n",
        "0. biodegradable\n",
        "1. cardboard\n",
        "2. glass\n",
        "3. metal\n",
        "4. paper\n",
        "5. plastic\n",
        "6. trash (мусор без категории)"
      ],
      "metadata": {
        "id": "JaRKXn8JWe6X"
      }
    },
    {
      "cell_type": "markdown",
      "source": [
        "## Информация о dataset"
      ],
      "metadata": {
        "id": "vARIdh5xXjGv"
      }
    },
    {
      "cell_type": "code",
      "source": [
        "df_enhanced.info()"
      ],
      "metadata": {
        "colab": {
          "base_uri": "https://localhost:8080/"
        },
        "id": "Mg8twqILcclt",
        "outputId": "c4e4cfc4-42c0-4d85-93a7-71866b12e352"
      },
      "execution_count": 7,
      "outputs": [
        {
          "output_type": "stream",
          "name": "stdout",
          "text": [
            "<class 'pandas.core.frame.DataFrame'>\n",
            "Index: 19892 entries, 0 to 197\n",
            "Data columns (total 2 columns):\n",
            " #   Column  Non-Null Count  Dtype \n",
            "---  ------  --------------  ----- \n",
            " 0   image   19892 non-null  object\n",
            " 1   label   19892 non-null  int64 \n",
            "dtypes: int64(1), object(1)\n",
            "memory usage: 466.2+ KB\n"
          ]
        }
      ]
    },
    {
      "cell_type": "code",
      "source": [
        "print(df_enhanced.head())"
      ],
      "metadata": {
        "colab": {
          "base_uri": "https://localhost:8080/"
        },
        "id": "BTdU0uAghFXc",
        "outputId": "fb27ecc7-4ab2-4b17-a7f7-67cbc20b7537"
      },
      "execution_count": 8,
      "outputs": [
        {
          "output_type": "stream",
          "name": "stdout",
          "text": [
            "                                               image  label\n",
            "0  {'bytes': b'\\xff\\xd8\\xff\\xe0\\x00\\x10JFIF\\x00\\x...      0\n",
            "1  {'bytes': b'\\xff\\xd8\\xff\\xe0\\x00\\x10JFIF\\x00\\x...      0\n",
            "2  {'bytes': b'\\xff\\xd8\\xff\\xe0\\x00\\x10JFIF\\x00\\x...      0\n",
            "3  {'bytes': b'\\xff\\xd8\\xff\\xe0\\x00\\x10JFIF\\x00\\x...      0\n",
            "4  {'bytes': b'\\xff\\xd8\\xff\\xe0\\x00\\x10JFIF\\x00\\x...      0\n"
          ]
        }
      ]
    },
    {
      "cell_type": "markdown",
      "source": [
        "# Балансировка данных"
      ],
      "metadata": {
        "id": "sfNkFLQ8Xp4f"
      }
    },
    {
      "cell_type": "markdown",
      "source": [
        "## Масштабирование размера изображений и сохранение в папку \"resized_images\""
      ],
      "metadata": {
        "id": "ZzUwCwcnYZDW"
      }
    },
    {
      "cell_type": "markdown",
      "source": [
        "Исходя из EDA самым популярным размером стал 416 на 416. Приводим все изображения к кваратному виду 416 на 416, путем их растягивания.\n"
      ],
      "metadata": {
        "id": "_FUGaMQkcq_l"
      }
    },
    {
      "cell_type": "code",
      "source": [
        "\n",
        "# Создаём папку для сохранения\n",
        "SAVE_DIR = \"resized_images\"\n",
        "os.makedirs(SAVE_DIR, exist_ok=True)\n",
        "\n",
        "# Функция для изменения размера и сохранения\n",
        "def resize_and_save(row, size=(416, 416)):\n",
        "    img_bytes = row[\"image\"][\"bytes\"]\n",
        "    img = Image.open(io.BytesIO(img_bytes))\n",
        "    img_resized = img.resize(size)  # Меняем размер\n",
        "    img_path = os.path.join(SAVE_DIR, f\"{row.name}.jpg\")  # Генерируем путь\n",
        "    img_resized.save(img_path, \"JPEG\")\n",
        "    return img_path\n",
        "\n",
        "\n",
        "df_enhanced[\"image_path\"] = df_enhanced.apply(resize_and_save, axis=1)\n",
        "#содержит пути к уменьшенным изображениям\n"
      ],
      "metadata": {
        "id": "FzCOq_1lcmGv"
      },
      "execution_count": 9,
      "outputs": []
    },
    {
      "cell_type": "markdown",
      "source": [
        "## Балансировка количества объектов в классах"
      ],
      "metadata": {
        "id": "Sf2AH4cGYLRm"
      }
    },
    {
      "cell_type": "markdown",
      "source": [
        "### Агументация класса trash"
      ],
      "metadata": {
        "id": "JZNA_YoW3kHn"
      }
    },
    {
      "cell_type": "markdown",
      "source": [
        "Количество изображений в классах"
      ],
      "metadata": {
        "id": "pJ5WoV8_7RwG"
      }
    },
    {
      "cell_type": "code",
      "source": [
        "print(df_enhanced[\"label\"].value_counts())"
      ],
      "metadata": {
        "colab": {
          "base_uri": "https://localhost:8080/"
        },
        "id": "an4V-EW81vCn",
        "outputId": "1f0a329a-1851-425d-ed4c-785324685c0e"
      },
      "execution_count": 10,
      "outputs": [
        {
          "output_type": "stream",
          "name": "stdout",
          "text": [
            "label\n",
            "2    4902\n",
            "0    3692\n",
            "4    3485\n",
            "1    2782\n",
            "3    2484\n",
            "5    2410\n",
            "6     137\n",
            "Name: count, dtype: int64\n"
          ]
        }
      ]
    },
    {
      "cell_type": "markdown",
      "source": [
        "Папка для агументированных изображений"
      ],
      "metadata": {
        "id": "46a_gQzD7l7l"
      }
    },
    {
      "cell_type": "code",
      "source": [
        "SAVE_DIR = \"augmented_images\"\n",
        "os.makedirs(SAVE_DIR, exist_ok=True)"
      ],
      "metadata": {
        "id": "6H26buTR3mnH"
      },
      "execution_count": 11,
      "outputs": []
    },
    {
      "cell_type": "markdown",
      "source": [
        "Агументация будет производится с изменением яркости, констрастности, поворотов и отражений"
      ],
      "metadata": {
        "id": "eIunA7Bw_Rnt"
      }
    },
    {
      "cell_type": "code",
      "source": [
        "target_size = df_enhanced[\"label\"].value_counts().max()\n",
        "\n",
        "# функция агументации\n",
        "def augment_image(img):\n",
        "    angle = random.choice([90, 180, 270])\n",
        "    transform = transforms.Compose([\n",
        "        transforms.ColorJitter(brightness=0.3, contrast=0.3), # регулировка яркости и контрастности\n",
        "        transforms.RandomHorizontalFlip(),\n",
        "        transforms.RandomVerticalFlip(),\n",
        "        transforms.Lambda(lambda x: x.rotate(angle))\n",
        "    ])\n",
        "    return transform(img)\n",
        "\n",
        "\n",
        "augmented_data = []\n",
        "\n",
        "\n",
        "for class_label, count in df_enhanced[\"label\"].value_counts().items():\n",
        "    df_class = df_enhanced[df_enhanced[\"label\"] == class_label]\n",
        "    n_samples_needed = target_size - count  # сколько нужно добавить\n",
        "\n",
        "    if n_samples_needed > 0:\n",
        "        for i in range(n_samples_needed):\n",
        "            row = df_class.sample(n=1, random_state=i).iloc[0]\n",
        "            img = Image.open(row[\"image_path\"])\n",
        "            img_aug = augment_image(img)\n",
        "\n",
        "            # Сохраняем аугментированное изображение на диск\n",
        "            aug_path = os.path.join(SAVE_DIR, f\"aug_{class_label}_{i}.jpg\")\n",
        "            img_aug.save(aug_path, \"JPEG\")\n",
        "\n",
        "            augmented_data.append({\"image_path\": aug_path, \"label\": class_label})"
      ],
      "metadata": {
        "id": "eLila6nZ3qDW"
      },
      "execution_count": 12,
      "outputs": []
    },
    {
      "cell_type": "markdown",
      "source": [
        "Объединяем с исходным dataset"
      ],
      "metadata": {
        "id": "_UnirSDe8d2t"
      }
    },
    {
      "cell_type": "code",
      "source": [
        "df_augmented = pd.DataFrame(augmented_data)\n",
        "df_balanced = pd.concat([df_enhanced, df_augmented], ignore_index=True)"
      ],
      "metadata": {
        "id": "Y7aNRbwp8bbd"
      },
      "execution_count": 13,
      "outputs": []
    },
    {
      "cell_type": "markdown",
      "source": [
        "Количество изображений в классах после агументации"
      ],
      "metadata": {
        "id": "edyzfG348o39"
      }
    },
    {
      "cell_type": "code",
      "source": [
        "print(df_balanced[\"label\"].value_counts())"
      ],
      "metadata": {
        "colab": {
          "base_uri": "https://localhost:8080/"
        },
        "id": "7hOIP08C8oZ1",
        "outputId": "86298824-4b06-4f61-adad-b2f47014b093"
      },
      "execution_count": 14,
      "outputs": [
        {
          "output_type": "stream",
          "name": "stdout",
          "text": [
            "label\n",
            "0    4902\n",
            "1    4902\n",
            "2    4902\n",
            "3    4902\n",
            "4    4902\n",
            "5    4902\n",
            "6    4902\n",
            "Name: count, dtype: int64\n"
          ]
        }
      ]
    },
    {
      "cell_type": "markdown",
      "source": [
        "# Разделение данных на обучающие и тестовую выборки"
      ],
      "metadata": {
        "id": "qHyQSB_FYlv2"
      }
    },
    {
      "cell_type": "code",
      "source": [
        "train_df, test_df = train_test_split(df_balanced, test_size=0.2, random_state=42, stratify=df_balanced[\"label\"])"
      ],
      "metadata": {
        "id": "vuaokpYx_wc9"
      },
      "execution_count": 15,
      "outputs": []
    },
    {
      "cell_type": "code",
      "source": [
        "print(\"Размер обучающей выборки:\", train_df.shape)\n",
        "print(\"Размер тестовой выборки:\", test_df.shape)"
      ],
      "metadata": {
        "colab": {
          "base_uri": "https://localhost:8080/"
        },
        "id": "UB0q69R5AUuV",
        "outputId": "87e08fe6-d4e0-4937-c458-077b963a0b18"
      },
      "execution_count": 16,
      "outputs": [
        {
          "output_type": "stream",
          "name": "stdout",
          "text": [
            "Размер обучающей выборки: (27451, 3)\n",
            "Размер тестовой выборки: (6863, 3)\n"
          ]
        }
      ]
    },
    {
      "cell_type": "code",
      "source": [
        "print(train_df.info())"
      ],
      "metadata": {
        "colab": {
          "base_uri": "https://localhost:8080/"
        },
        "id": "5GOsoLI-A0ZH",
        "outputId": "cf830751-c4a3-4aa9-cf5d-24ec76dbc19e"
      },
      "execution_count": 17,
      "outputs": [
        {
          "output_type": "stream",
          "name": "stdout",
          "text": [
            "<class 'pandas.core.frame.DataFrame'>\n",
            "Index: 27451 entries, 9546 to 32636\n",
            "Data columns (total 3 columns):\n",
            " #   Column      Non-Null Count  Dtype \n",
            "---  ------      --------------  ----- \n",
            " 0   image       15920 non-null  object\n",
            " 1   label       27451 non-null  int64 \n",
            " 2   image_path  27451 non-null  object\n",
            "dtypes: int64(1), object(2)\n",
            "memory usage: 857.8+ KB\n",
            "None\n"
          ]
        }
      ]
    },
    {
      "cell_type": "markdown",
      "source": [
        "- 80% обучающая выборка\n",
        "- 20% тестовая выборка\n",
        "- с равномерным распределением классов в выборках"
      ],
      "metadata": {
        "id": "npuD1BUPAXp2"
      }
    }
  ]
}