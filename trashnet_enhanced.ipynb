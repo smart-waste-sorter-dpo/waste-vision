{
  "cells": [
    {
      "cell_type": "markdown",
      "metadata": {
        "id": "Y7t-8h7u9x6V"
      },
      "source": [
        "# Автоматическая классификация вида бытового мусора по изображению"
      ]
    },
    {
      "cell_type": "markdown",
      "metadata": {
        "id": "NUdMo638-a0E"
      },
      "source": [
        "## Импорт библиотек"
      ]
    },
    {
      "cell_type": "code",
      "execution_count": null,
      "metadata": {
        "dotnet_interactive": {
          "language": "csharp"
        },
        "id": "OTiriVYMkkfo",
        "polyglot_notebook": {
          "kernelName": "csharp"
        }
      },
      "outputs": [],
      "source": [
        "import pandas as pd\n",
        "import numpy as np\n",
        "import matplotlib.pyplot as plt\n",
        "import seaborn as sns\n",
        "from PIL import Image, ImageStat\n",
        "import io\n",
        "from sklearn.model_selection import train_test_split\n",
        "from tensorflow.keras.preprocessing.image import img_to_array, load_img\n",
        "from tensorflow.keras.utils import to_categorical\n",
        "from tensorflow.keras.applications import MobileNetV2\n",
        "from tensorflow.keras.layers import Dense, GlobalAveragePooling2D\n",
        "from tensorflow.keras.models import Model\n",
        "from tensorflow.keras.models import load_model\n",
        "from tensorflow.keras.callbacks import EarlyStopping\n",
        "import tensorflow as tf\n",
        "from sklearn.metrics import confusion_matrix, classification_report\n",
        "import seaborn as sns\n",
        "import matplotlib.pyplot as plt\n",
        "import numpy as np\n",
        "import matplotlib.pyplot as plt\n",
        "from sklearn.metrics import roc_curve, auc\n",
        "from sklearn.preprocessing import label_binarize\n",
        "from sklearn.preprocessing import label_binarize\n",
        "from sklearn.metrics import roc_curve, auc"
      ]
    },
    {
      "cell_type": "markdown",
      "metadata": {
        "id": "uwySU8SW-eP8"
      },
      "source": [
        "## Загрузка данных"
      ]
    },
    {
      "cell_type": "markdown",
      "metadata": {
        "id": "rbhma-sTDQUB"
      },
      "source": [
        "### Функция для загрузки датасета в формате parquet"
      ]
    },
    {
      "cell_type": "code",
      "execution_count": null,
      "metadata": {
        "dotnet_interactive": {
          "language": "csharp"
        },
        "id": "QWiIy0lekkfp",
        "polyglot_notebook": {
          "kernelName": "csharp"
        }
      },
      "outputs": [],
      "source": [
        "def get_df_from_hf_parquet(base_url: str, parquet_count: int) -> pd.DataFrame:\n",
        "  urls = [base_url + f\"{i:04}.parquet\" for i in range(0, parquet_count)]\n",
        "  return pd.concat([pd.read_parquet(url) for url in urls])"
      ]
    },
    {
      "cell_type": "markdown",
      "metadata": {
        "id": "Z0AARu--_Gne"
      },
      "source": [
        "### Загрузка улучшенного trashnet"
      ]
    },
    {
      "cell_type": "code",
      "execution_count": null,
      "metadata": {
        "dotnet_interactive": {
          "language": "csharp"
        },
        "id": "9ItxiRcnkkfp",
        "polyglot_notebook": {
          "kernelName": "csharp"
        }
      },
      "outputs": [],
      "source": [
        "enhanced_url = \"https://huggingface.co/datasets/edwinpalegre/trashnet_enhanced/resolve/refs%2Fconvert%2Fparquet/default/train/\"\n",
        "\n",
        "df_enhanced = get_df_from_hf_parquet(enhanced_url, 100)"
      ]
    },
    {
      "cell_type": "markdown",
      "metadata": {
        "id": "nmUuvNUjl7TN"
      },
      "source": [
        "## Предварительная обработка данных"
      ]
    },
    {
      "cell_type": "markdown",
      "metadata": {},
      "source": [
        "Выводим количество классов у датасета"
      ]
    },
    {
      "cell_type": "code",
      "execution_count": null,
      "metadata": {
        "dotnet_interactive": {
          "language": "csharp"
        },
        "id": "zcoATWM6kkfp",
        "outputId": "488bd970-b75a-4c0d-8be5-5b5093a14f0a",
        "polyglot_notebook": {
          "kernelName": "csharp"
        }
      },
      "outputs": [
        {
          "data": {
            "text/plain": [
              "label\n",
              "2    4902\n",
              "0    3692\n",
              "4    3485\n",
              "1    2782\n",
              "3    2484\n",
              "5    2410\n",
              "6     137\n",
              "Name: count, dtype: int64"
            ]
          },
          "execution_count": 75,
          "metadata": {},
          "output_type": "execute_result"
        }
      ],
      "source": [
        "df_enhanced['label'].value_counts()"
      ]
    },
    {
      "cell_type": "markdown",
      "metadata": {},
      "source": [
        "Можно заметить, что у 6 класса количество данных сильно меньше, чем у остальных. Делаем вывод, что модель не сумеет достаточно обучиться и метрики из-за этого будут хуже. Также этот класс довольно обобщенный. Поэтому убираем 6 класс, не будем его учитывать при обучении"
      ]
    },
    {
      "cell_type": "code",
      "execution_count": null,
      "metadata": {
        "dotnet_interactive": {
          "language": "csharp"
        },
        "id": "sZMfNlQQkkfp",
        "polyglot_notebook": {
          "kernelName": "csharp"
        }
      },
      "outputs": [],
      "source": [
        "df_enhanced = df_enhanced[df_enhanced['label'] != 6]"
      ]
    },
    {
      "cell_type": "code",
      "execution_count": null,
      "metadata": {
        "dotnet_interactive": {
          "language": "csharp"
        },
        "id": "kjRDQicHkkfp",
        "outputId": "a87f6af5-9d4f-4a5c-f97a-3ebd843563d5",
        "polyglot_notebook": {
          "kernelName": "csharp"
        }
      },
      "outputs": [
        {
          "data": {
            "text/plain": [
              "label\n",
              "2    4902\n",
              "0    3692\n",
              "4    3485\n",
              "1    2782\n",
              "3    2484\n",
              "5    2410\n",
              "Name: count, dtype: int64"
            ]
          },
          "execution_count": 77,
          "metadata": {},
          "output_type": "execute_result"
        }
      ],
      "source": [
        "df_enhanced['label'].value_counts()"
      ]
    },
    {
      "cell_type": "markdown",
      "metadata": {},
      "source": [
        "Убрали 6 класс, теперь в датасете будут только классы с 0 по 5"
      ]
    },
    {
      "cell_type": "markdown",
      "metadata": {
        "id": "J9WPMV5T6-Zs"
      },
      "source": [
        "### Функция для преобразования байтов изображения в массив numpy"
      ]
    },
    {
      "cell_type": "markdown",
      "metadata": {
        "id": "mpmnUO1r9qfP"
      },
      "source": [
        "Функция преобразует байты изображения в объект PIL.Image с помощью io.BytesIO для чтения байтового представления изображения, а также приводит изображения к размеру (224, 224). Данная функция возвращает нормализованный массив numpy размером (224, 224, 3), готовый для подачи в нейросеть"
      ]
    },
    {
      "cell_type": "code",
      "execution_count": null,
      "metadata": {
        "dotnet_interactive": {
          "language": "csharp"
        },
        "id": "u5YVfZx6kkfq",
        "polyglot_notebook": {
          "kernelName": "csharp"
        }
      },
      "outputs": [],
      "source": [
        "def bytes_to_array(image_bytes):\n",
        "    img = Image.open(io.BytesIO(image_bytes['bytes']))\n",
        "    img = img.resize((224, 224))\n",
        "    img_array = img_to_array(img) / 255.0\n",
        "    return img_array"
      ]
    },
    {
      "cell_type": "markdown",
      "metadata": {
        "id": "c7aYgXqNnxFE"
      },
      "source": [
        "## Создание генератора данных"
      ]
    },
    {
      "cell_type": "markdown",
      "metadata": {
        "id": "Zb53wvBTE2iI"
      },
      "source": [
        "### Пользовательский генератор данных"
      ]
    },
    {
      "cell_type": "markdown",
      "metadata": {
        "id": "774SzpkmFQtQ"
      },
      "source": [
        "Данная функция принимает DataFrame (df) с изображениями и метками, а также размер батча (batch_size). Затем в бесконечном цикле (while True) разбивает данные на батчи фиксированного размера. После для каждого батча извлекает изображения и применяет функцию bytes_to_array (преобразует байты в нормализованные numpy-массивы)"
      ]
    },
    {
      "cell_type": "code",
      "execution_count": null,
      "metadata": {
        "dotnet_interactive": {
          "language": "csharp"
        },
        "id": "eOsMJUtfkkfq",
        "polyglot_notebook": {
          "kernelName": "csharp"
        }
      },
      "outputs": [],
      "source": [
        "def data_generator(df, batch_size=32):\n",
        "    num_samples = len(df)\n",
        "    while True:\n",
        "        for offset in range(0, num_samples, batch_size):\n",
        "            batch_samples = df.iloc[offset:offset + batch_size]\n",
        "            X = np.array([bytes_to_array(img) for img in batch_samples['image']])\n",
        "            y = batch_samples['label'].values\n",
        "            y = to_categorical(y, num_classes=6)\n",
        "            yield X, y"
      ]
    },
    {
      "cell_type": "markdown",
      "metadata": {},
      "source": [
        "Таким образом мы подготовили данные перед подачей в нейросеть при обучении:\n",
        " \n",
        "• Нейросети обучаются на мини-батчах, а не на всем датасете сразу - это усокряет обучение и уменьшает потребление памяти. \n",
        "\n",
        "• В глубоких нейросетях часто используют генераторы данных, которые бесконечно создают батчи и передают их в модель. Это позволяет не загружать весь датасет в память, а обрабатывать его по частям во время обучения."
      ]
    },
    {
      "cell_type": "markdown",
      "metadata": {
        "id": "yi8Mflzgq4SM"
      },
      "source": [
        "### Разделение на обучающую и валидационную выборки"
      ]
    },
    {
      "cell_type": "markdown",
      "metadata": {
        "id": "nhkWIXOSGOt8"
      },
      "source": [
        "Разделяем данные с помощью train_test_split на:\n",
        "\n",
        "1. Обучающую выборку (train_df, 80% данных).\n",
        "2. Валидационную выборку (val_df, 20% данных).\n",
        "\n",
        "Инициализируем генераторы для обучения (train_generator) и валидации (val_generator), используя функцию data_generator."
      ]
    },
    {
      "cell_type": "code",
      "execution_count": null,
      "metadata": {
        "dotnet_interactive": {
          "language": "csharp"
        },
        "id": "I_d0fkpxkkfq",
        "polyglot_notebook": {
          "kernelName": "csharp"
        }
      },
      "outputs": [],
      "source": [
        "# Разделение данных на обучающую и валидационную выборки\n",
        "train_df, val_df = train_test_split(df_enhanced, test_size=0.2, random_state=42)\n",
        "\n",
        "# Определение размера batch\n",
        "batch_size = 32\n",
        "\n",
        "# Создание генераторов для обучения и валидации\n",
        "train_generator = data_generator(train_df, batch_size=batch_size)\n",
        "val_generator = data_generator(val_df, batch_size=batch_size)"
      ]
    },
    {
      "cell_type": "markdown",
      "metadata": {},
      "source": [
        "Определяем количество шагов (итераций) за одну эпоху при обучении и валидации модели в нейросетях."
      ]
    },
    {
      "cell_type": "code",
      "execution_count": null,
      "metadata": {
        "dotnet_interactive": {
          "language": "csharp"
        },
        "id": "SsOl8ptHkkfq",
        "polyglot_notebook": {
          "kernelName": "csharp"
        }
      },
      "outputs": [],
      "source": [
        "steps_per_epoch = len(train_df) // batch_size\n",
        "validation_steps = len(val_df) // batch_size"
      ]
    },
    {
      "cell_type": "markdown",
      "metadata": {
        "id": "sxffZVwLrNon"
      },
      "source": [
        "## Работа с моделью"
      ]
    },
    {
      "cell_type": "markdown",
      "metadata": {
        "id": "wBYYjaoKoRAA"
      },
      "source": [
        "### Построение модели"
      ]
    },
    {
      "cell_type": "markdown",
      "metadata": {
        "id": "wWzPBmeyIPrh"
      },
      "source": [
        "Создание модели для классификации изображений на основе MobileNetV2, что значительно экономит время и вычислительные ресурсы."
      ]
    },
    {
      "cell_type": "code",
      "execution_count": null,
      "metadata": {
        "dotnet_interactive": {
          "language": "csharp"
        },
        "id": "bJo7tLRGkkfq",
        "polyglot_notebook": {
          "kernelName": "csharp"
        }
      },
      "outputs": [],
      "source": [
        "# Загрузка мобильной сетки V2 предварительно отягощенными грузами, исключая верхние слои\n",
        "base_model = MobileNetV2(weights='imagenet', include_top=False, input_shape=(224, 224, 3))\n",
        "\n",
        "# Заморозка слоев базовой модели\n",
        "base_model.trainable = False\n",
        "\n",
        "# Добавление пользовательских слоев поверх Mobile Net V2\n",
        "x = base_model.output\n",
        "x = GlobalAveragePooling2D()(x)\n",
        "x = Dense(1024, activation='relu')(x)\n",
        "predictions = Dense(6, activation='softmax')(x)\n",
        "\n",
        "# Объединяем базовую модель и пользовательские слои\n",
        "model = Model(inputs=base_model.input, outputs=predictions)\n",
        "\n",
        "# Сборка модели\n",
        "model.compile(optimizer='adam', loss='categorical_crossentropy', metrics=['accuracy'])"
      ]
    },
    {
      "cell_type": "markdown",
      "metadata": {
        "id": "D1ZaxlsLrnEc"
      },
      "source": [
        "### Обучение модели"
      ]
    },
    {
      "cell_type": "markdown",
      "metadata": {
        "id": "WlHEhtAfJpFg"
      },
      "source": [
        "Запуск обучения модели, используя генераторы train_generator и val_generator для подачи данных, обучение модели на 10 эпох (или меньше, если сработает EarlyStopping) и сохранение истории обучения в переменную history. "
      ]
    },
    {
      "cell_type": "code",
      "execution_count": null,
      "metadata": {
        "dotnet_interactive": {
          "language": "csharp"
        },
        "id": "a1tu63_Ikkfq",
        "polyglot_notebook": {
          "kernelName": "csharp"
        }
      },
      "outputs": [],
      "source": [
        "early_stopping = EarlyStopping(\n",
        "    monitor='val_loss',  \n",
        "    patience=3,        \n",
        "    restore_best_weights=True \n",
        ")"
      ]
    },
    {
      "cell_type": "code",
      "execution_count": null,
      "metadata": {
        "dotnet_interactive": {
          "language": "csharp"
        },
        "id": "1YFN2Bmukkfr",
        "outputId": "a65731b6-800f-452e-ce7b-f05dd65a84eb",
        "polyglot_notebook": {
          "kernelName": "csharp"
        }
      },
      "outputs": [
        {
          "name": "stdout",
          "output_type": "stream",
          "text": [
            "Epoch 1/10\n",
            "\u001b[1m493/493\u001b[0m \u001b[32m━━━━━━━━━━━━━━━━━━━━\u001b[0m\u001b[37m\u001b[0m \u001b[1m886s\u001b[0m 2s/step - accuracy: 0.7962 - loss: 0.5785 - val_accuracy: 0.8905 - val_loss: 0.3159\n",
            "Epoch 2/10\n",
            "\u001b[1m493/493\u001b[0m \u001b[32m━━━━━━━━━━━━━━━━━━━━\u001b[0m\u001b[37m\u001b[0m \u001b[1m837s\u001b[0m 2s/step - accuracy: 0.9207 - loss: 0.2173 - val_accuracy: 0.9052 - val_loss: 0.2787\n",
            "Epoch 3/10\n",
            "\u001b[1m493/493\u001b[0m \u001b[32m━━━━━━━━━━━━━━━━━━━━\u001b[0m\u001b[37m\u001b[0m \u001b[1m1598s\u001b[0m 3s/step - accuracy: 0.9617 - loss: 0.1166 - val_accuracy: 0.9126 - val_loss: 0.2737\n",
            "Epoch 4/10\n",
            "\u001b[1m493/493\u001b[0m \u001b[32m━━━━━━━━━━━━━━━━━━━━\u001b[0m\u001b[37m\u001b[0m \u001b[1m852s\u001b[0m 2s/step - accuracy: 0.9747 - loss: 0.0789 - val_accuracy: 0.9071 - val_loss: 0.3201\n",
            "Epoch 5/10\n",
            "\u001b[1m493/493\u001b[0m \u001b[32m━━━━━━━━━━━━━━━━━━━━\u001b[0m\u001b[37m\u001b[0m \u001b[1m827s\u001b[0m 2s/step - accuracy: 0.9798 - loss: 0.0567 - val_accuracy: 0.9158 - val_loss: 0.3147\n",
            "Epoch 6/10\n",
            "\u001b[1m493/493\u001b[0m \u001b[32m━━━━━━━━━━━━━━━━━━━━\u001b[0m\u001b[37m\u001b[0m \u001b[1m2095s\u001b[0m 4s/step - accuracy: 0.9847 - loss: 0.0426 - val_accuracy: 0.9232 - val_loss: 0.3163\n",
            "Epoch 7/10\n",
            "\u001b[1m493/493\u001b[0m \u001b[32m━━━━━━━━━━━━━━━━━━━━\u001b[0m\u001b[37m\u001b[0m \u001b[1m991s\u001b[0m 2s/step - accuracy: 0.9811 - loss: 0.0472 - val_accuracy: 0.9255 - val_loss: 0.3018\n",
            "Epoch 8/10\n",
            "\u001b[1m493/493\u001b[0m \u001b[32m━━━━━━━━━━━━━━━━━━━━\u001b[0m\u001b[37m\u001b[0m \u001b[1m1453s\u001b[0m 3s/step - accuracy: 0.9869 - loss: 0.0363 - val_accuracy: 0.9321 - val_loss: 0.2899\n",
            "Epoch 9/10\n",
            "\u001b[1m493/493\u001b[0m \u001b[32m━━━━━━━━━━━━━━━━━━━━\u001b[0m\u001b[37m\u001b[0m \u001b[1m919s\u001b[0m 2s/step - accuracy: 0.9910 - loss: 0.0300 - val_accuracy: 0.9337 - val_loss: 0.2835\n",
            "Epoch 10/10\n",
            "\u001b[1m493/493\u001b[0m \u001b[32m━━━━━━━━━━━━━━━━━━━━\u001b[0m\u001b[37m\u001b[0m \u001b[1m931s\u001b[0m 2s/step - accuracy: 0.9920 - loss: 0.0254 - val_accuracy: 0.9293 - val_loss: 0.3069\n"
          ]
        }
      ],
      "source": [
        "history = model.fit(\n",
        "    train_generator,\n",
        "    steps_per_epoch=steps_per_epoch,\n",
        "    epochs=10,\n",
        "    validation_data=val_generator,\n",
        "    validation_steps=validation_steps\n",
        ")"
      ]
    },
    {
      "cell_type": "markdown",
      "metadata": {},
      "source": [
        "**Вывод:**\n",
        "1. Точность на тренировочных данных (accuracy) значительно увеличилась: с 79.62% (эпоха 1) до 99.20% (эпоха 10).\n",
        "\n",
        "2. Потери (loss) на обучающем наборе уменьшились: с 0.5785 до 0.0254, что указывает на хорошее обучение модели.\n",
        "\n",
        "3. Потери на валидации (val_loss) сначала уменьшались, но затем начали расти: с 0.3159 (эпоха 1) → 0.2737 (эпоха 3) → 0.3069 (эпоха 10). Это может указывать на начало переобучения после 6–7 эпох.\n",
        "\n",
        "4. После 6-й эпохи валидационные метрики улучшаются медленнее, что говорит о том, что модель почти достигла своего предела."
      ]
    },
    {
      "cell_type": "markdown",
      "metadata": {
        "id": "iPBHhZxOsdIS"
      },
      "source": [
        "### Оценка модели"
      ]
    },
    {
      "cell_type": "code",
      "execution_count": null,
      "metadata": {
        "dotnet_interactive": {
          "language": "csharp"
        },
        "id": "kUSw_jVckkfr",
        "outputId": "3c12838b-cf3c-4f4b-bd60-66d3c8f5aa18",
        "polyglot_notebook": {
          "kernelName": "csharp"
        }
      },
      "outputs": [
        {
          "name": "stdout",
          "output_type": "stream",
          "text": [
            "\u001b[1m123/123\u001b[0m \u001b[32m━━━━━━━━━━━━━━━━━━━━\u001b[0m\u001b[37m\u001b[0m \u001b[1m251s\u001b[0m 2s/step - accuracy: 0.9233 - loss: 0.3335\n",
            "Validation Loss: 0.3065744936466217\n",
            "Validation Accuracy: 0.9295738935470581\n"
          ]
        }
      ],
      "source": [
        "val_loss, val_accuracy = model.evaluate(val_generator, steps=validation_steps)\n",
        "print(f\"Validation Loss: {val_loss}\")\n",
        "print(f\"Validation Accuracy: {val_accuracy}\")"
      ]
    },
    {
      "cell_type": "markdown",
      "metadata": {
        "id": "QvXsYju3LBql"
      },
      "source": [
        "**Вывод:**\n",
        "1. Точность на обучающем наборе (accuracy): 92.33%. Точность на валидации (Validation Accuracy): 92.96%\n",
        "\n",
        "2. Обучающие потери (loss): 0.3335. Валидационные потери (Validation Loss): 0.3066. val_loss чуть меньше, чем loss, что говорит о том, что модель не переобучилась.\n",
        "\n",
        "3. Модель показывает хорошие результаты и не переобучилась. Разница между loss и val_loss небольшая, что говорит о хорошей устойчивости.\n",
        "\n",
        "Таким образом, можно попробовать дообучить модель, если требуется ещё большая точность, или проверить, улучшится ли результат с аугментацией данных. "
      ]
    },
    {
      "cell_type": "markdown",
      "metadata": {},
      "source": [
        "Указываем названия классов: биоразлагаемые отходы, картон, стекло, металл, бумага, пластик"
      ]
    },
    {
      "cell_type": "code",
      "execution_count": null,
      "metadata": {
        "dotnet_interactive": {
          "language": "csharp"
        },
        "id": "XzdAfKkKkkfr",
        "polyglot_notebook": {
          "kernelName": "csharp"
        }
      },
      "outputs": [],
      "source": [
        "label_mapping_enhanced = {\n",
        "    0: \"BIODEGRADABLE\",\n",
        "    1: \"CARDBOARD\",\n",
        "    2: \"GLASS\",\n",
        "    3: \"METAL\",\n",
        "    4: \"PAPER\",\n",
        "    5: \"PLASTIC\",\n",
        "}"
      ]
    },
    {
      "cell_type": "markdown",
      "metadata": {},
      "source": [
        "Использование обученной модели для предсказания классов на валидационных данных. Выполнение построения таких метрик как: матрица ошибок и отчет о классификации."
      ]
    },
    {
      "cell_type": "code",
      "execution_count": null,
      "metadata": {
        "id": "zVlppxUYkkfr",
        "outputId": "48008c0d-d608-4c60-d6dc-83ab0c1ff075"
      },
      "outputs": [
        {
          "name": "stdout",
          "output_type": "stream",
          "text": [
            "\u001b[1m123/123\u001b[0m \u001b[32m━━━━━━━━━━━━━━━━━━━━\u001b[0m\u001b[37m\u001b[0m \u001b[1m208s\u001b[0m 2s/step\n",
            "Размер true_labels: 3919\n",
            "Размер predicted_classes: 3919\n",
            "Confusion Matrix:\n",
            "[[694   3   8   2   3   1]\n",
            " [  0 533   1   3  18   2]\n",
            " [  3   4 964  12   5  23]\n",
            " [  0   5  30 453   3  15]\n",
            " [  6  46  14   8 599   6]\n",
            " [  0   4  34  10   7 400]]\n",
            "Classification Report:\n",
            "              precision    recall  f1-score   support\n",
            "\n",
            "           0       0.99      0.98      0.98       711\n",
            "           1       0.90      0.96      0.93       557\n",
            "           2       0.92      0.95      0.94      1011\n",
            "           3       0.93      0.90      0.91       506\n",
            "           4       0.94      0.88      0.91       679\n",
            "           5       0.89      0.88      0.89       455\n",
            "\n",
            "    accuracy                           0.93      3919\n",
            "   macro avg       0.93      0.92      0.93      3919\n",
            "weighted avg       0.93      0.93      0.93      3919\n",
            "\n"
          ]
        }
      ],
      "source": [
        "# Генерация предсказаний\n",
        "predictions = model.predict(val_generator, steps=validation_steps)\n",
        "predicted_classes = np.argmax(predictions, axis=1)\n",
        "\n",
        "# --- Исправление размеров true_labels ---\n",
        "true_labels = []\n",
        "for _ in range(validation_steps):\n",
        "    _, y_batch = next(val_generator)\n",
        "    true_labels.extend(np.argmax(y_batch, axis=1))\n",
        "\n",
        "true_labels = np.array(true_labels)[:len(predicted_classes)]\n",
        "\n",
        "print(f\"Размер true_labels: {len(true_labels)}\")\n",
        "print(f\"Размер predicted_classes: {len(predicted_classes)}\")\n",
        "\n",
        "# --- Исправление KerasTensor ---\n",
        "if isinstance(predictions, tf.Tensor):\n",
        "    predictions = predictions.numpy()\n",
        "\n",
        "# --- Построение матрицы ошибок и отчета классификации ---\n",
        "conf_matrix = confusion_matrix(true_labels, predicted_classes)\n",
        "print(\"Confusion Matrix:\")\n",
        "print(conf_matrix)\n",
        "\n",
        "class_report = classification_report(true_labels, predicted_classes)\n",
        "print(\"Classification Report:\")\n",
        "print(class_report)\n"
      ]
    },
    {
      "cell_type": "markdown",
      "metadata": {},
      "source": [
        "**Вывод:**\n",
        "1. Точность (accuracy): 93% – модель демонстрирует высокую точность.\n",
        "\n",
        "2. Обучающие потери (loss): 0.3335. Валидационные потери (Validation Loss): 0.3066. val_loss чуть меньше, чем loss, что говорит о том, что модель не переобучилась.\n",
        "\n",
        "3. Средние значения (macro avg & weighted avg): Precision (точность): 0.93, Recall (полнота): 0.92, F1-score: 0.93. Это указывает на сбалансированную работу модели для всех классов.\n",
        "\n",
        "4. Лучшие классы: Биоразлагаемые отходы (0) имеют F1-score = 0.98 (очень высокая точность и полнота, Стекло (2) имеют F1-score = 0.94 (стабильная классификация), Металл (3)имеют F1-score = 0.91 (высокая точность).\n",
        "\n",
        "5. Бумага (4): Precision 0.94, но Recall 0.88 → модель иногда пропускает правильные примеры. В матрице ошибок видно, что 46 раз бумагу спутали с картоном.\n",
        "\n",
        "6. Пластик (5): Recall = 0.88 → означает, что 12% пластиковых объектов классифицированы неправильно. Ошибки чаще происходят с металлом (10 ошибок) и стеклом (34 ошибки).\n",
        "\n",
        "7. Ошибки: Картон (1) и бумага (4) путаются чаще всего (46 ошибок), Стекло (2) иногда ошибочно классифицируется как пластик (23 раза), Металл (3) иногда классифицируется как стекло (30 ошибок).\n",
        "\n",
        "Таким образом, для улучшения модели можно сделать следующее:\n",
        "\n",
        "1. Обучение модели на сбалансированных данных (наш выбор)\n",
        "2. Добавить данные в датасет (в силу недостатка времени и ресурсов не сможем реализовать)\n",
        "3. Использовать более мощную модель или весовые коэффициенты (В Keras можно задать class_weight, чтобы модель уделяла больше внимания недопредставленным классам)\n"
      ]
    },
    {
      "cell_type": "markdown",
      "metadata": {
        "id": "0n9sbNIDt_9C"
      },
      "source": [
        "### Визуализация матрицы ошибок"
      ]
    },
    {
      "cell_type": "code",
      "execution_count": null,
      "metadata": {
        "dotnet_interactive": {
          "language": "csharp"
        },
        "id": "1EMdsRu_kkfr",
        "outputId": "3679e61a-9aad-4821-ac27-0587616a1701",
        "polyglot_notebook": {
          "kernelName": "csharp"
        }
      },
      "outputs": [
        {
          "data": {
            "image/png": "[encoded data removed]",
            "text/plain": [
              "<Figure size 1000x800 with 2 Axes>"
            ]
          },
          "metadata": {},
          "output_type": "display_data"
        }
      ],
      "source": [
        "plt.figure(figsize=(10, 8))\n",
        "sns.heatmap(conf_matrix, annot=True, fmt='d', cmap='Blues', xticklabels=label_mapping_enhanced.values(), yticklabels=label_mapping_enhanced.values())\n",
        "plt.xlabel('Predicted Labels')\n",
        "plt.ylabel('True Labels')\n",
        "plt.title('Confusion Matrix')\n",
        "plt.show()"
      ]
    },
    {
      "cell_type": "markdown",
      "metadata": {
        "id": "fvSTb98fuhxa"
      },
      "source": [
        "**Вывод:**\n",
        "\n",
        "1. Общее качество классификации является высоким для всех классов, что подтверждается значениями precision, recall и F1-меры.\n",
        "\n",
        "2. Наибольшие ошибки наблюдаются при классификации следующих пар классов:\n",
        "\n",
        "  * PAPER и CARDBOARD (46 объектов из класса PAPER ошибочно отнесли к классу CARDBOARD) - ошибки могут быть связаны со схожестью материалов,\n",
        "\n",
        "  * PLASTIC и GLASS (34 объекта из класса PLASTIC ошибочно отнесли к классу GLASS) - ошибки могут быть связаны с прозрачностью объектов обоих классов.\n",
        "\n",
        "  * GLASS и METAL (30 объектов из класса GLASS ошибочно отнесли к классу METAL) - ошибки возможны, из-за отражений и блеска поверхности.\n",
        "\n",
        "Таким образом снова подтверждаем, что необходимо попробовать обучить модель на сбалансированных данных (наш выбор) или добавить данные в датасет (в силу недостатка времени и ресурсов не сможем реализовать)"
      ]
    },
    {
      "cell_type": "markdown",
      "metadata": {
        "id": "xAJocjRNvyi9"
      },
      "source": [
        "### Анализ AUC-ROC"
      ]
    },
    {
      "cell_type": "markdown",
      "metadata": {},
      "source": [
        "AUC (Area Under the Curve) — это метрика качества бинарных классификаторов, измеряющая разделяющую способность модели. Чем ближе AUC к 1.0, тем лучше модель различает классы."
      ]
    },
    {
      "cell_type": "code",
      "execution_count": null,
      "metadata": {
        "id": "MKEnpy5Skkfr",
        "outputId": "0e59bd43-ad6f-498b-eee1-0849dc0034ba"
      },
      "outputs": [
        {
          "name": "stdout",
          "output_type": "stream",
          "text": [
            "Класс 0: AUC = 0.9993147405747235\n",
            "Класс 1: AUC = 0.9952110236170015\n",
            "Класс 2: AUC = 0.9936178310931881\n",
            "Класс 3: AUC = 0.9936860805406902\n",
            "Класс 4: AUC = 0.9930437371588575\n",
            "Класс 5: AUC = 0.9909511966093952\n"
          ]
        }
      ],
      "source": [
        "# Преобразуем метки в бинарный формат\n",
        "y_bin = label_binarize(true_labels, classes=[0, 1, 2, 3, 4, 5])\n",
        "\n",
        "# Строим ROC-кривую для каждого класса\n",
        "for i in range(y_bin.shape[1]):\n",
        "    fpr, tpr, _ = roc_curve(y_bin[:, i], predictions[:, i])\n",
        "    roc_auc = auc(fpr, tpr)\n",
        "    print(f\"Класс {i}: AUC = {roc_auc}\")\n"
      ]
    },
    {
      "cell_type": "markdown",
      "metadata": {
        "id": "kKwrXAyn0Zbw"
      },
      "source": [
        "### Построение ROC-кривых для каждого класса"
      ]
    },
    {
      "cell_type": "code",
      "execution_count": null,
      "metadata": {
        "id": "HL7P9VLUkkfr",
        "outputId": "ff38cd7a-8d04-494b-f1e4-543be16b5f11"
      },
      "outputs": [
        {
          "name": "stdout",
          "output_type": "stream",
          "text": [
            "Форма y_bin: (3919, 6)\n",
            "Форма predictions до исправления: (3919, 6)\n",
            "Форма predictions после исправления: (3919, 6)\n"
          ]
        },
        {
          "data": {
            "image/png": "[encoded data removed]",
            "text/plain": [
              "<Figure size 800x600 with 1 Axes>"
            ]
          },
          "metadata": {},
          "output_type": "display_data"
        }
      ],
      "source": [
        "# Проверяем размеры массивов\n",
        "print(\"Форма y_bin:\", y_bin.shape)\n",
        "print(\"Форма predictions до исправления:\", predictions.shape)\n",
        "print(\"Форма predictions после исправления:\", predictions.shape)\n",
        "\n",
        "# Построение графика ROC-кривых\n",
        "plt.figure(figsize=(8, 6))\n",
        "\n",
        "for i in range(y_bin.shape[1]):\n",
        "    fpr, tpr, _ = roc_curve(y_bin[:, i], predictions[:, i])\n",
        "    roc_auc = auc(fpr, tpr)\n",
        "    plt.plot(fpr, tpr, label=f'Класс {i} (AUC = {roc_auc:.3f})')\n",
        "\n",
        "# Добавляем линии и подписи\n",
        "plt.plot([0, 1], [0, 1], 'k--')  # Линия случайной классификации\n",
        "plt.xlabel('False Positive Rate (FPR)')\n",
        "plt.ylabel('True Positive Rate (TPR)')\n",
        "plt.title('ROC-кривые для каждого класса')\n",
        "plt.legend(loc=\"lower right\")\n",
        "plt.grid()\n",
        "plt.show()\n"
      ]
    },
    {
      "cell_type": "markdown",
      "metadata": {
        "id": "aJ5NprIgROa3"
      },
      "source": [
        "**Сравнительный анализ классов:**\n",
        "\n",
        "* Наилучший результат демонстрирует класс 0 (AUC = 0.999), что указывает на почти идеальное разделение.\n",
        "\n",
        "* Наименьшее значение у класса 5 (AUC = 0.991), однако разница с другими классами несущественна.\n",
        "\n",
        "**Выявим возможные причины различий в значениях AUC между классами:**\n",
        "1. Разная сложность распознавания классов\n",
        "\n",
        "  * Класс 0 (AUC ≈ 0.999) может обладать уникальными и хорошо выраженными признаками, которые легко отделимы от других категорий.\n",
        "\n",
        "  * Класс 5 (AUC ≈ 0.991) может включать объекты с более изменчивыми или схожими с другими классами характеристиками (например, текстура, форма, цвет).\n",
        "\n",
        "2. Несбалансированность данных\n",
        "\n",
        "  * Класс 5 представлен меньшим количеством примеров в обучающей выборке.\n",
        "\n",
        "3. Перекрытие признаков с другими классами\n",
        "\n",
        "  * Объекты класса PLASTIC имеют признаки, схожие с другими классами, такими как GLASS и METAL (например, материал, отражающая поверхность), что приводит к бóльшему числу ошибок и снижению AUC. В то же время класс 0, вероятно, имеет минимальное перекрытие с остальными, что объясняет его почти идеальный AUC.\n",
        "\n",
        "**Вывод:** значения AUC-ROC для всех классов находятся в диапазоне 0.991–0.999, что свидетельствует о хорошей способности модели разделять объекты разных категорий."
      ]
    },
    {
      "cell_type": "markdown",
      "metadata": {
        "id": "3R_MNKWX-plQ"
      },
      "source": [
        "## Сохранение модели"
      ]
    },
    {
      "cell_type": "code",
      "execution_count": null,
      "metadata": {
        "id": "foBRIU7Rkkfs",
        "outputId": "8706136f-7658-44ab-8da9-e4ec050596d5"
      },
      "outputs": [
        {
          "name": "stdout",
          "output_type": "stream",
          "text": [
            "Модель успешно сохранена в формате SavedModel\n"
          ]
        }
      ],
      "source": [
        "# Сохраняем модель в формате SavedModel\n",
        "model.save(filepath='model.keras')\n",
        "\n",
        "print(\"Модель успешно сохранена в формате SavedModel\")"
      ]
    },
    {
      "cell_type": "markdown",
      "metadata": {
        "id": "uYY9AnoF2Y6l"
      },
      "source": [
        "## Заключение"
      ]
    },
    {
      "cell_type": "markdown",
      "metadata": {
        "id": "0UbUvC3I2gKQ"
      },
      "source": [
        "**В ходе обучения модели:**\n",
        "1. Проведена предобработка данных, изображения преобразовывались в numpy-массивы с изменением размера до 224x224 пикселей, а также была реализована аугментация данных (вращение, отражение, настройка яркости и контрастности).  \n",
        "2. Построена архитектура модели с использованием предобученная MobileNetV2 (без верхних слоев) в качестве базовой модели.\n",
        "3. Выполнено обучение модели с использованием генератора данных для эффективной работы с большим объемом изображений.\n",
        "4. Проведена оценка полученных результатов. А именно:\n",
        "\n",
        "*   Рассчитаны метрики accuracy и loss на валидационной выборке\n",
        "*   Построена матрица ошибок и отчет классификации\n",
        "*   Построены ROC-кривые и рассчитаны AUC для каждого класса\n",
        "\n",
        "\n",
        "---\n",
        "\n",
        "\n",
        "**В результате:**\n",
        "\n",
        "1. Модель продемонстрировала высокую точность (93.6%) на тестовых данных, что свидетельствует о ее хорошей обобщающей способности.\n",
        "\n",
        "2. Качество классификации по AUC-ROC\n",
        "\n",
        "  * AUC-ROC для всех классов находится в диапазоне 0.991–0.999, что указывает на отличную способность модели разделять классы.\n",
        "\n",
        "  * Наивысший AUC у класса 0 (0.999), что говорит о почти идеальном распознавании.\n",
        "\n",
        "  * Немного более низкий AUC у класса 5 (0.991) может быть связан с его большей сложностью или сходством с другими классами.\n",
        "\n",
        "3. Анализ матрицы ошибок (Confusion Matrix)\n",
        "\n",
        "  * Модель хорошо классифицирует классы 0, 2 и 3 (минимальные ошибки).\n",
        "\n",
        "4. Наибольшая путаница возникает между:\n",
        "\n",
        "  * Классами 1 и 4 (46 ошибочных предсказаний)\n",
        "  * Классами 2 и 5 (34 ошибки)\n",
        "  * Классами 3 и 2 (30 ошибок)\n",
        "\n",
        "  Это может быть связано с перекрытием признаков (например, схожая текстура, форма или материал)."
      ]
    },
    {
      "cell_type": "markdown",
      "metadata": {},
      "source": [
        "**Таким образом для улучшения модели было принято решение обучить ее на сбалансированном наборе данных.**"
      ]
    }
  ],
  "metadata": {
    "accelerator": "GPU",
    "colab": {
      "collapsed_sections": [
        "uwySU8SW-eP8"
      ],
      "gpuType": "T4",
      "provenance": [],
      "toc_visible": true
    },
    "kernelspec": {
      "display_name": "Python 3",
      "language": "python",
      "name": "python3"
    },
    "language_info": {
      "codemirror_mode": {
        "name": "ipython",
        "version": 3
      },
      "file_extension": ".py",
      "mimetype": "text/x-python",
      "name": "python",
      "nbconvert_exporter": "python",
      "pygments_lexer": "ipython3",
      "version": "3.12.9"
    },
    "polyglot_notebook": {
      "kernelInfo": {
        "defaultKernelName": "csharp",
        "items": [
          {
            "aliases": [],
            "name": "csharp"
          }
        ]
      }
    }
  },
  "nbformat": 4,
  "nbformat_minor": 0
}
